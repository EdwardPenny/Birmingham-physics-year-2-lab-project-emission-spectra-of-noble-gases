{
 "cells": [
  {
   "cell_type": "markdown",
   "metadata": {},
   "source": [
    "# The Analaysis of Spectra of Noble Gases\n",
    "\n",
    "### By Emir Muhammad and Edward Penny "
   ]
  },
  {
   "cell_type": "markdown",
   "metadata": {},
   "source": [
    "## 1. Initializing the Notebook\n",
    "\n"
   ]
  },
  {
   "cell_type": "markdown",
   "metadata": {},
   "source": [
    "### Importing Modules\n",
    "The notebook requires various modules and tools from outside sources. Most of these has been encountered before, such as numpy, scipy, and matplotlib, however others are new such as astropy and jupyter widgets. The code below imports all necessary modules for the notebook to work."
   ]
  },
  {
   "cell_type": "code",
   "execution_count": 1,
   "metadata": {},
   "outputs": [],
   "source": [
    "%matplotlib inline\n",
    "import os\n",
    "import numpy as np\n",
    "import matplotlib.pyplot as plt\n",
    "from astropy.visualization import astropy_mpl_style\n",
    "plt.style.use(astropy_mpl_style)\n",
    "from astropy.utils.data import get_pkg_data_filename\n",
    "from astropy.io import fits\n",
    "\n",
    "from scipy.signal import find_peaks\n",
    "from scipy.signal import peak_prominences\n",
    "from scipy.signal import peak_widths\n",
    "from scipy.optimize import curve_fit\n",
    "\n",
    "from __future__ import print_function\n",
    "from ipywidgets import interact, interactive, fixed, interact_manual, FloatSlider\n",
    "import ipywidgets as widgets"
   ]
  },
  {
   "cell_type": "markdown",
   "metadata": {},
   "source": [
    "### Importing all the necessary strings for importing the data\n",
    "The code below works only for Emir and Edward on their machines, where they have placed the experimental data as well as the database in specified locations. This bit of code allows the authors to collaborate by switching between different locations quickly. \n",
    "\n",
    "The code itself is written such that the functions themselves do not depend on any specific location, so it should work on any machine so long as the user properly defines the paths of the files and databases. However, please write down 'user' in the name_of_owner field for it to pass through."
   ]
  },
  {
   "cell_type": "code",
   "execution_count": 2,
   "metadata": {},
   "outputs": [
    {
     "name": "stdout",
     "output_type": "stream",
     "text": [
      "This code is too important for me to allow you to jeopardize it\n"
     ]
    }
   ],
   "source": [
    "name_of_owner = 'Edward'\n",
    "\n",
    "if name_of_owner == 'Emir':\n",
    "    Xenonlocation = '/Users/emirmuhammad/Desktop/Ed-Em-Y2Spec/Xenon Data/' \n",
    "    Kryptonlocation = '/Users/emirmuhammad/Desktop/Ed-Em-Y2Spec/Krypton Data/' \n",
    "    Argonlocation = '/Users/emirmuhammad/Desktop/Ed-Em-Y2Spec/Argon Data/'\n",
    "    Neonlocation = '/Users/emirmuhammad/Desktop/Ed-Em-Y2Spec/Neon Data/'\n",
    "    Heliumlocation = '/Users/emirmuhammad/Desktop/Ed-Em-Y2Spec/Helium 500/'\n",
    "    Cadmiumlocation = '/Users/emirmuhammad/Desktop/Ed-Em-Y2Spec/Cadmium Calibration Data/'\n",
    "    LampNeonlocation = '/Users/emirmuhammad/Desktop/Ed-Em-Y2Spec/Neon discharge lamp data/'\n",
    "    LampXenonlocation = '/Users/emirmuhammad/Desktop/Ed-Em-Y2Spec/Extra Xenon data/'\n",
    "\n",
    "    heliumtext = '/Users/emirmuhammad/Desktop/Ed-Em-Y2Spec/Atomic Data/helium.txt'\n",
    "    neontext = '/Users/emirmuhammad/Desktop/Ed-Em-Y2Spec/Atomic Data/fakeneon.txt'   \n",
    "    argontext = '/Users/emirmuhammad/Desktop/Ed-Em-Y2Spec/Atomic Data/fakeargon.txt' \n",
    "    kryptontext = '/Users/emirmuhammad/Desktop/Ed-Em-Y2Spec/Atomic Data/krypton.txt'\n",
    "    xenontext = '/Users/emirmuhammad/Desktop/Ed-Em-Y2Spec/Atomic Data/xenon.txt'\n",
    "    \n",
    "elif name_of_owner == 'Edward': \n",
    "    Xenonlocation = '/Users/Edward/Documents/year 2/lab project/Ed-Em-Y2Spec/Xenon data/'  \n",
    "    Kryptonlocation = '/Users/Edward/Documents/year 2/lab project/Ed-Em-Y2Spec/Krypton data/'  \n",
    "    Argonlocation = '/Users/Edward/Documents/year 2/lab project/Ed-Em-Y2Spec/Argon Data/'\n",
    "    Neonlocation = '/Users/Edward/Documents/year 2/lab project/Ed-Em-Y2Spec/Neon Data/'\n",
    "    Heliumlocation = '/Users/Edward/Documents/year 2/lab project/Ed-Em-Y2Spec/Helium Data/'\n",
    "    Cadmiumlocation = '/Users/Edward/Documents/year 2/lab project/Ed-Em-Y2Spec/Cadmium Calibration Data/'\n",
    "\n",
    "    heliumtext = '/Users/Edward/Documents/year 2/lab project/Atomic Data/helium.txt'\n",
    "    neontext = '/Users/Edward/Documents/year 2/lab project/Atomic Data/neon.txt'\n",
    "    argontext = '/Users/Edward/Documents/year 2/lab project/Atomic Data/argon.txt'\n",
    "    kryptontext = '/Users/Edward/Documents/year 2/lab project/Atomic Data/krypton.txt'\n",
    "    xenontext = '/Users/Edward/Documents/year 2/lab project/Atomic Data/xenon.txt'\n",
    "\n",
    "elif name_of_owner == 'user':\n",
    "    pass\n",
    "\n",
    "else:\n",
    "    print('please add in the correct name, else the entire code will not run properly.')\n",
    "    print(0/0)"
   ]
  },
  {
   "cell_type": "markdown",
   "metadata": {},
   "source": [
    "## 2. Defining functions to import FITS files and plotting"
   ]
  },
  {
   "cell_type": "markdown",
   "metadata": {},
   "source": [
    "This section corresponds to the early work that was done, where figuring out how to import the data from the spectroscope was the goal. Each function has a different purporse as seen in their docstrings."
   ]
  },
  {
   "cell_type": "code",
   "execution_count": 3,
   "metadata": {},
   "outputs": [],
   "source": [
    "def mean_data(location):\n",
    "    '''Returns the average 'FITS image' from a folder of FITS files. \n",
    "  \n",
    "    Requires all the data to be kept in a single folder. \n",
    "  \n",
    "    Parameters: \n",
    "    location(str): Path to folder containing FITS data.\n",
    "  \n",
    "    Returns: \n",
    "    2d numpy array representing the average.\n",
    "    '''\n",
    "    tracks = []\n",
    "    for i in os.listdir(location):\n",
    "        if i.endswith(\".fit\"):\n",
    "            filename =location + '/' + str(i)\n",
    "            image_file = get_pkg_data_filename(filename)\n",
    "            image_data = fits.getdata(image_file, ext=0) #uses astropy module to convert the fit file into an array\n",
    "            tracks.append(image_data)\n",
    "    mean = np.mean(tracks, axis = 0)\n",
    "    return mean"
   ]
  },
  {
   "cell_type": "code",
   "execution_count": 4,
   "metadata": {},
   "outputs": [],
   "source": [
    "def plot_datapx(data, a=240, b=360):\n",
    "    ''' Plots a 2d-array as intensity vs pixel. \n",
    "  \n",
    "    Parameters: \n",
    "    data(2d-array): The data that is plotted. Represents a single FITS file\n",
    "    a(int): lower bound for horizontal slicing\n",
    "    b(int): upper bound for horizontal splicing\n",
    "    \n",
    "    Returns: \n",
    "    plot1: Plot of Intensity vs Pixel Number\n",
    "    plot2: Visualization of FITS file\n",
    "    '''\n",
    "    data = data\n",
    "    snipmean = data[a:b]   \n",
    "    numberofx = snipmean.shape[1]\n",
    "    x = np.linspace(1, numberofx, numberofx)\n",
    "    y = np.mean(snipmean, axis = 0)\n",
    "    plt.title('Plot of superMean Intensity Vs Pixel Number')\n",
    "    plt.xlabel(r'Wavelength (m)')\n",
    "    plt.ylabel(r'Intensity(arbitrary units)')\n",
    "    plt.plot(x, y)\n",
    "    plt.show()\n",
    "    plt.figure()\n",
    "    plt.imshow(data, cmap='gray')\n",
    "    plt.colorbar()"
   ]
  },
  {
   "cell_type": "code",
   "execution_count": 5,
   "metadata": {},
   "outputs": [],
   "source": [
    "def plot_datawv(data, a=240, b=360, MINspacebetweenpeaks = 10, PROMCUTOFF = 250, Element = None):\n",
    "    ''' Plots a 2d-array as intensity vs wavelength along with found peaks. \n",
    "  \n",
    "    Conversion of pixel number to wavelength is done in labs using a Cadmium Calibration Lamp. \n",
    "    Wavelength calibration is hardcoded into this function in the variables A and B. \n",
    "  \n",
    "  \n",
    "    Parameters: \n",
    "    data(2d-array): The data to be plotted. Represents a single FITS file\n",
    "    a(str): Lower bound for horizontal splicing\n",
    "    b(str): Upper bound for horizontal splicing\n",
    "    MINspacebetweenpeaks\n",
    "    PROMCUTOFF\n",
    "    Element(str) = Optional variable for labling the figure\n",
    "    \n",
    "    Returns: \n",
    "    1 Plot of the Intensity vs Wavelength of data, along with vertical lines representing peaks found by the code.\n",
    "    '''\n",
    "    data = data\n",
    "    snipmean = data[a:b]\n",
    "    numberofx = snipmean.shape[1]\n",
    "    xt = np.linspace(1, numberofx, numberofx)\n",
    "    A = 6.640*10**(-10) #wavelength calibration\n",
    "    B = 2.736*10**(-7)  #wavelength calibration\n",
    "    x = A*xt + B        #wavelength calibration\n",
    "    y = np.mean(snipmean, axis = 0)\n",
    "    \n",
    "    if Element == None:  #title plotting\n",
    "        plt.title(f'Plot of Mean Intensity Vs Wavelength')\n",
    "    else:\n",
    "        plt.title(f'Plot of Mean Intensity Vs Wavelength {Element}')\n",
    "    plt.xlabel(r'Wavelength (m)')\n",
    "    plt.ylabel(r'Intensity(arbitrary units)')\n",
    "    \n",
    "    peaks,_ = find_peaks(y, distance = MINspacebetweenpeaks)\n",
    "    proms = peak_prominences(y, peaks)[0]\n",
    "    proms[proms < PROMCUTOFF] = 0 # making an array of 1's and 0's \n",
    "    promsford = list(proms)\n",
    "    L0 = promsford.count(0)\n",
    "    DC = 0\n",
    "    while DC<L0:\n",
    "        DC +=1\n",
    "        promsford.remove(0) # finding prominences for the dictionary\n",
    "    proms[proms > PROMCUTOFF] = 1 # making an array of 1's and 0's\n",
    "    proms[proms == PROMCUTOFF] = 1 \n",
    "    keypeaks = proms*peaks # setting all peaks with low prominences to 0\n",
    "    Lkeypeaks = list(keypeaks) # have to make it into a list to use count and remove\n",
    "    L1= Lkeypeaks.count(0) # finding the number of 0's for the loop\n",
    "    RC= 0 \n",
    "    while RC<L1:\n",
    "        RC +=1\n",
    "        Lkeypeaks.remove(0) # remove only removes the first 0 so have to loop it through\n",
    "    keypeaks = np.array(Lkeypeaks) # convert back to an array for the graphing\n",
    "    Wavelengthsford= A*keypeaks + B\n",
    "    Wavelengthsford = list(Wavelengthsford) #getting wavelengths of peaks for the dictionary\n",
    "    for n in np.nditer(keypeaks):\n",
    "        plt.axvline(x= A*n+ B,linestyle=':', color = 'r', label='f0')\n",
    "    plt.plot(x, y)\n",
    "    Peaksdict = {}\n",
    "    for i in range(len(promsford)): #assembling the peak dictionary\n",
    "        Peaksdict[Wavelengthsford[i]] = promsford[i]\n",
    "    plt.show()\n",
    "    return None"
   ]
  },
  {
   "cell_type": "code",
   "execution_count": 6,
   "metadata": {},
   "outputs": [],
   "source": [
    "def peaks_datawv(data, a=240, b=360, MINspacebetweenpeaks = 10, PROMCUTOFF = 250):\n",
    "    '''Returns a dictionary of Peaks and Intensity for each found peak. \n",
    "  \n",
    "    Conversion of pixel number to wavelength is done in labs using a Cadmium Calibration Lamp. \n",
    "    Wavelength calibration is hardcoded into this function in the variables A and B. \n",
    "    \n",
    "  \n",
    "    Parameters: \n",
    "    data(2d-array): The data to be plotted. Represents a single FITS file\n",
    "    a(str): Lower bound for horizontal splicing\n",
    "    b(str): Upper bound for horizontal splicing\n",
    "    MINspacebetweenpeaks\n",
    "    PROMCUTOFF\n",
    "    \n",
    "    Returns: \n",
    "    Dictionary = {Wavelength of peak: Intensity}\n",
    "    '''\n",
    "    data = data\n",
    "    snipmean = data[a:b]\n",
    "    numberofx = snipmean.shape[1]\n",
    "    xt = np.linspace(1, numberofx, numberofx)\n",
    "    A = 6.640*10**(-10) #calibration from pixels to wavelengths\n",
    "    B = 2.736*10**(-7)\n",
    "    x = A*xt + B\n",
    "    y = np.mean(snipmean, axis = 0)\n",
    "    peaks,_ = find_peaks(y, distance = MINspacebetweenpeaks)\n",
    "    proms = peak_prominences(y, peaks)[0]\n",
    "    proms[proms < PROMCUTOFF] = 0 # making an array of 1's and 0's \n",
    "    promsford = list(proms)\n",
    "    L0 = promsford.count(0)\n",
    "    DC = 0\n",
    "    while DC<L0:\n",
    "        DC +=1\n",
    "        promsford.remove(0) # finding prominences for the dictionary\n",
    "    proms[proms > PROMCUTOFF] = 1 # making an array of 1's and 0's \n",
    "    keypeaks = proms*peaks # setting all peaks with low prominences to 0\n",
    "    Lkeypeaks = list(keypeaks) # have to make it into a list to use count and remove\n",
    "    L1= Lkeypeaks.count(0) # finding the number of 0's for the loop\n",
    "    RC= 0 \n",
    "    while RC<L1:\n",
    "        RC +=1\n",
    "        Lkeypeaks.remove(0) # remove only removes the first 0 so have to loop it through\n",
    "    keypeaks = np.array(Lkeypeaks) # convert back to an array for the graphing\n",
    "    Wavelengthsford= A*keypeaks + B\n",
    "    Wavelengthsford = list(Wavelengthsford) #getting wavelengths of peaks for the dictionary\n",
    "    Peaksdict = {}\n",
    "    for i in range(len(promsford)): #assembling the peak dictionary\n",
    "        Peaksdict[Wavelengthsford[i]] = promsford[i]\n",
    "    return Peaksdict"
   ]
  },
  {
   "cell_type": "code",
   "execution_count": 7,
   "metadata": {},
   "outputs": [],
   "source": [
    "def extrainfo(data, a=240, b=360, MINspacebetweenpeaks = 10, PROMCUTOFF = 250):\n",
    "    '''Returns a list of tuples used for Peak Matching and Gaussian conversion\n",
    "  \n",
    "    Conversion of pixel number to wavelength is done in labs using a Cadmium Calibration Lamp. \n",
    "    Wavelength calibration is hardcoded into this function in the variables A and B. \n",
    "    \n",
    "    \n",
    "    Parameters: \n",
    "    data(2d-array): The data to be plotted. Represents a single FITS file\n",
    "    a(str): Lower bound for horizontal splicing\n",
    "    b(str): Upper bound for horizontal splicing\n",
    "    MINspacebetweenpeaks\n",
    "    PROMCUTOFF\n",
    "    \n",
    "    Returns: \n",
    "    List of Tuples: each tuple of the format (wavelength, width, intensity) for each peak\n",
    "    '''\n",
    "    data = data\n",
    "    snipmean = data[a:b]\n",
    "    numberofx = snipmean.shape[1]\n",
    "    xt = np.linspace(1, numberofx, numberofx)\n",
    "    A = 6.662*10**(-10)\n",
    "    B = 2.730*10**(-7)\n",
    "    x = A*xt + B\n",
    "    y = np.mean(snipmean, axis = 0)\n",
    "    peaks,_ = find_peaks(y, distance = MINspacebetweenpeaks)\n",
    "    proms = peak_prominences(y, peaks)[0]\n",
    "    proms[proms < PROMCUTOFF] = 0 # making an array of 1's and 0's \n",
    "    promsford = list(proms)\n",
    "    L0 = promsford.count(0)\n",
    "    DC = 0\n",
    "    while DC<L0:\n",
    "        DC +=1\n",
    "        promsford.remove(0) # finding prominences for the dictionary\n",
    "    proms[proms > PROMCUTOFF] = 1 # making an array of 1's and 0's \n",
    "    keypeaks = proms*peaks # setting all peaks with low prominences to 0\n",
    "    Lkeypeaks = list(keypeaks) # have to make it into a list to use count and remove\n",
    "    L1= Lkeypeaks.count(0) # finding the number of 0's for the loop\n",
    "    RC= 0 \n",
    "    while RC<L1:\n",
    "        RC +=1\n",
    "        Lkeypeaks.remove(0) # remove only removes the first 0 so have to loop it through\n",
    "    keypeaks = np.array(Lkeypeaks) # convert back to an array for the graphing\n",
    "    Wavelengthsford= A*keypeaks + B\n",
    "    Wavelengthsford = list(Wavelengthsford) #getting wavelengths of peaks for the dictionary\n",
    "    Peaksdict = {}\n",
    "    for i in range(len(promsford)): #assembling the peak dictionary\n",
    "        Peaksdict[Wavelengthsford[i]] = promsford[i]\n",
    "\n",
    "        \n",
    "    '''finding rel intensities'''\n",
    "    keypeaks =keypeaks.astype(int)\n",
    "    peaksy = []\n",
    "    for n in keypeaks:\n",
    "        peaksy.append(y[n])\n",
    "    TT=np.max(peaksy)\n",
    "    relint=(peaksy) #replace 1 with 1000/TT\n",
    "    Relintdict = {}\n",
    "    for i in range(len(peaksy)):\n",
    "        Relintdict[Wavelengthsford[i]] = relint[i]\n",
    "    widths = peak_widths(y, keypeaks)\n",
    "    Wavelengthsford=np.array(Wavelengthsford)\n",
    "    widths=widths[0]\n",
    "    GD=[]\n",
    "    for a,b,c in zip(Wavelengthsford,relint,widths):\n",
    "        temp=(a, c*A, b)\n",
    "        GD.append(temp)\n",
    "    return(GD)"
   ]
  },
  {
   "cell_type": "markdown",
   "metadata": {},
   "source": [
    "## 3. Importing Databases into the Notebook as Dictionaries"
   ]
  },
  {
   "cell_type": "markdown",
   "metadata": {},
   "source": [
    "The code below is for importing the dictionaries found at http://astro.u-strasbg.fr/~koppen/discharge/ to be used in the analysis."
   ]
  },
  {
   "cell_type": "code",
   "execution_count": 8,
   "metadata": {},
   "outputs": [],
   "source": [
    "def importdict(textlocation):\n",
    "    '''Returns a dictionary of {wavelength:Relativeintensity} from the text file representing the Database'''\n",
    "    f=open(textlocation,\"r\")\n",
    "    lines=f.readlines()\n",
    "    result=[]\n",
    "    results2 = []\n",
    "    for x in lines:\n",
    "        result.append(x.split(' ')[0])\n",
    "        results2.append(x.split(' ')[-1])\n",
    "    f.close()\n",
    "    a = [float(i) for i in results2]\n",
    "    #in this bit put the code to ma\n",
    "    temp = {}\n",
    "    results = [float(i)*10**(-10) for i in result]\n",
    "    for i in range(len(result)): #assembling the peak dictionary\n",
    "        temp[results[i]] = a[i]\n",
    "    return temp\n",
    "\n",
    "Heliumdict = importdict(heliumtext)\n",
    "Neondict = importdict(neontext)\n",
    "Argondict = importdict(argontext)\n",
    "Kryptondict = importdict(kryptontext)\n",
    "Xenondict = importdict(xenontext)\n",
    "\n"
   ]
  },
  {
   "cell_type": "code",
   "execution_count": 9,
   "metadata": {
    "scrolled": false
   },
   "outputs": [],
   "source": [
    "'''Master Dictionary'''\n",
    "True_element_rel_in_d = {'He': Heliumdict, 'Ne' : Neondict, 'Ar' : Argondict, 'Kr':  Kryptondict, 'Xe' : Xenondict}\n",
    "\n",
    "'''Creating a general dictionary of {elements:[wavelengths]}'''\n",
    "datad= {}\n",
    "for keys in True_element_rel_in_d.keys():\n",
    "    datad.update({f'{keys}': list(True_element_rel_in_d.get(f'{keys}').keys())})"
   ]
  },
  {
   "cell_type": "markdown",
   "metadata": {},
   "source": [
    "## 4. Wavelength matching function"
   ]
  },
  {
   "cell_type": "markdown",
   "metadata": {},
   "source": [
    "The code here is used to match the peaks found in section 2 with the database from section 3 as a sanity check, as well as showing that the analysis is headed in the right direction"
   ]
  },
  {
   "cell_type": "code",
   "execution_count": 10,
   "metadata": {},
   "outputs": [],
   "source": [
    "def matchelements(location): \n",
    "    '''Returns a dictionary containing the matched peaks for each element from the captured spectrum and datad\n",
    "\n",
    "    Parameters: \n",
    "    locatoin(str): Path to folder where all data is kept\n",
    "    \n",
    "    Returns: \n",
    "    Dictionary: {element: [wavelengths of matches]}\n",
    "    '''\n",
    "    testunknown= peaks_datawv(mean_data(location))\n",
    "    unknown = list(testunknown.keys())\n",
    "    founddict = {}\n",
    "    for element in datad.keys():\n",
    "        thelist = []\n",
    "        for x in unknown:\n",
    "            for y in datad.get(element):\n",
    "                if abs(x - y) < 2*6.640*10**(-10):  #GET RID OF THE TIMES 2 MULTIPLE\n",
    "                    thelist.append(round(y, 11))\n",
    "        founddict.update({f'{element}' : thelist})\n",
    "    return founddict"
   ]
  },
  {
   "cell_type": "markdown",
   "metadata": {},
   "source": [
    "## 5. Gaussian Conversion\n"
   ]
  },
  {
   "cell_type": "markdown",
   "metadata": {},
   "source": [
    "To perform a proper curve fitting analysis, the dictionary and the spectrum must be converted into Gaussian functions for the curve fitting code to use."
   ]
  },
  {
   "cell_type": "code",
   "execution_count": 12,
   "metadata": {},
   "outputs": [],
   "source": [
    "def gaussian(x, mu, sig, a, cfudge = 0):\n",
    "    '''Function to generate a Gaussian Curve'''\n",
    "    return a*np.exp(-np.power(x - mu - (cfudge), 2.) / (2 * np.power(sig, 2.)))\n",
    "\n",
    "def fullgaussian(x, y, cfudge = 0):\n",
    "    '''Function containing a series of Gaussian Curves summed up.\n",
    "    \n",
    "    Parameters: \n",
    "    x(1d-array): An array of wavelengths for the Gaussian to plot\n",
    "    y(list of tuples): where each tuple is of the format (mu, sig, a)\n",
    "\n",
    "    Returns: \n",
    "    The value of the gaussian at x.\n",
    "    '''\n",
    "    b = 0\n",
    "    for mu, sig, a in y:\n",
    "        b += gaussian(x, mu, sig, a, cfudge)\n",
    "    return b\n",
    "    \n",
    "def plotgaussiandict(useddict, Element = None):\n",
    "    '''Plots a database dictionary into a Gaussian curve'''\n",
    "    emptylist = []\n",
    "    x_values = np.linspace(2.75*10**(-7), 8*10**(-7), 1200)\n",
    "    useddict = useddict\n",
    "    for x in useddict:\n",
    "        temp = (x, 1e-09, useddict[x]*100)\n",
    "        emptylist.append(temp)\n",
    "    plt.plot(x_values, fullgaussian(x_values, emptylist))\n",
    "    plt.xlabel(r'Wavelength (m)')\n",
    "    plt.ylabel(r'Arbitrary Intensity')\n",
    "    if Element == None:\n",
    "        plt.title(f'Gaussian-Converted Plot of Dictionary')\n",
    "    else:\n",
    "        plt.title(f'Gaussian-Converted Plot of Dictionary {Element}')\n",
    "    plt.show()\n",
    "    \n",
    "def plotgaussianspectrum(location, Element = None):\n",
    "    '''Plots a captured spectrum into a Gaussian curve'''\n",
    "    x_values = np.linspace(2.75*10**(-7), 8*10**(-7), 1200)\n",
    "    y = extrainfo(mean_data(location))\n",
    "    plt.plot(x_values, fullgaussian(x_values, y))\n",
    "    plt.xlabel(r'Wavelength (m)')\n",
    "    plt.ylabel(r'Arbitrary Intensity')\n",
    "    if Element == None:\n",
    "        plt.title(f'Gaussian-Converted Plot of Captured Spectrum')\n",
    "    else:\n",
    "        plt.title(f'Gaussian-Converted Plot of Captured {Element} Spectrum')\n",
    "    plt.show()"
   ]
  },
  {
   "cell_type": "markdown",
   "metadata": {},
   "source": [
    "### Analysis of what each Peak Corresponds to"
   ]
  },
  {
   "cell_type": "markdown",
   "metadata": {},
   "source": [
    "The code below provides a more thorough analysis of what each peak corresponds to in the spectrums"
   ]
  },
  {
   "cell_type": "code",
   "execution_count": 13,
   "metadata": {},
   "outputs": [],
   "source": [
    "def plotgaussianmatchedspect(location, Element = None):\n",
    "    '''Plots the Gaussian spectrum overlayed with vertical lines showing what each peak corresponds to.'''\n",
    "    x_values = np.linspace(2.75*10**(-7), 8*10**(-7), 1200)\n",
    "    y = extrainfo(mean_data(location))\n",
    "    plt.plot(x_values, fullgaussian(x_values, y))\n",
    "    plt.xlabel(r'Wavelength (m)')\n",
    "    plt.ylabel(r'Arbitrary Intensity')\n",
    "    testloc = matchelements(location)\n",
    "    for a in testloc.keys():\n",
    "        if a == 'He':\n",
    "            color = 'b'\n",
    "        elif a == 'Ne':\n",
    "            color = 'g'\n",
    "        elif a == 'Ar':\n",
    "            color = 'r'\n",
    "        elif a == 'Kr':\n",
    "            color = 'c'\n",
    "        elif a == 'Xe':\n",
    "            color = 'm'\n",
    "        plt.axvline(testloc[a][0], linestyle=':', color = color, label = a) #duplicate line for labeling purposes\n",
    "        for x in testloc[a]:\n",
    "            plt.axvline(x,linestyle=':', color = color)            \n",
    "    if Element == None:\n",
    "        plt.title(f'Plot of Matched Gaussian Lines')\n",
    "    else:\n",
    "        plt.title(f'Plot of Matched Gaussian Lines {Element}')\n",
    "    plt.legend()\n",
    "    plt.show()"
   ]
  },
  {
   "cell_type": "code",
   "execution_count": 14,
   "metadata": {},
   "outputs": [],
   "source": [
    "def plotgaussiandicttemp(useddict, x_values, multiple):\n",
    "    emptylist = []\n",
    "    useddict = useddict\n",
    "    for x in useddict:\n",
    "        temp = (x, 1e-09, useddict[x]*multiple)\n",
    "        emptylist.append(temp)\n",
    "    plt.plot(x_values, fullgaussian(x_values, emptylist), label = 'database', alpha = 0.5, marker = ',')\n",
    "\n",
    "\n",
    "def tempanalysis(a, location, testloc, color, Element, x_values, y, multiple = 50):\n",
    "    #testloc = matchelements(location)\n",
    "    plt.axvline(testloc[a][0], linestyle=':', color = color, label = a)\n",
    "    for x in testloc[a]:\n",
    "        plt.axvline(x,linestyle=':', color = color)\n",
    "    if Element == None:\n",
    "        plt.title(f'Plot of Matched Gaussian Lines')\n",
    "    else:\n",
    "        plt.title(f'Plot of Matched Gaussian Lines {Element}')\n",
    "    plt.plot(x_values, fullgaussian(x_values, y))\n",
    "    plotgaussiandicttemp(True_element_rel_in_d[a], x_values, multiple)    \n",
    "    plt.xlabel(r'Wavelength (m)')\n",
    "    plt.ylabel(r'Arbitrary Intensity')\n",
    "    plt.legend()\n",
    "    plt.show()\n",
    "\n",
    "def plotgaussiananalysis(location, Element = None):\n",
    "    '''Returns different plots where the captured spectrum is overlayed with the dictionary and lines showing any matched peaks.\n",
    "    \n",
    "    Parameters: \n",
    "    location(str): Path to where the folder containing data is kept\n",
    "\n",
    "    Returns: \n",
    "    Plots of overlayed Spectrum, Dictionaries, and Matches.\n",
    "    '''\n",
    "    location = location\n",
    "    testloc = matchelements(location)\n",
    "    x_values = np.linspace(2.75*10**(-7), 8*10**(-7), 1200)\n",
    "    y = extrainfo(mean_data(location))\n",
    "\n",
    "    for a in testloc.keys():\n",
    "        if a == 'He':\n",
    "            color = 'b'\n",
    "            tempanalysis(a, location, testloc, color, Element, x_values, y, multiple = 15)\n",
    "        elif a == 'Ne':\n",
    "            color = 'g'\n",
    "            tempanalysis(a, location, testloc, color, Element, x_values, y, multiple = 50)\n",
    "        elif a == 'Ar':\n",
    "            color = 'r'\n",
    "            tempanalysis(a, location, testloc, color, Element, x_values, y, multiple = 7.5)\n",
    "        elif a == 'Kr':\n",
    "            color = 'c'\n",
    "            tempanalysis(a, location, testloc, color, Element, x_values, y, multiple = 5)\n",
    "        elif a == 'Xe':\n",
    "            color = 'm'\n",
    "            tempanalysis(a, location, testloc, color, Element, x_values, y, multiple = 10)\n",
    "def singleanalysis(location, a, multiple, Element = None):\n",
    "    '''Returns a single plot where the captured spectrum is overlayed with the respective dictionary and lines showing any matched peaks.\n",
    "    \n",
    "    Parameters: \n",
    "    location(str): Path to where the folder containing data is kept\n",
    "    a(str): The key of the element for dictionary, format of 'He'\n",
    "\n",
    "    Returns: \n",
    "    Plot of overlayed Spectrum, Dictionaries, and Matches.\n",
    "    '''\n",
    "    location = location\n",
    "    testloc = matchelements(location)\n",
    "    x_values = np.linspace(2.75*10**(-7), 8*10**(-7), 1200)\n",
    "    y = extrainfo(mean_data(location))\n",
    "    useddict = True_element_rel_in_d[a]\n",
    "    color = 'k'\n",
    "    plt.plot(x_values, fullgaussian(x_values,y), label = 'captured')\n",
    "    plotgaussiandicttemp(useddict, x_values, multiple)\n",
    "    plt.legend()\n",
    "    plt.show()"
   ]
  },
  {
   "cell_type": "markdown",
   "metadata": {},
   "source": [
    "## 6. Scaling Dictionaries"
   ]
  },
  {
   "cell_type": "markdown",
   "metadata": {},
   "source": [
    "The Dictionaries from online are simply showing relative intensities. These intensities need\n",
    "to be scaled according to transmission probabilities."
   ]
  },
  {
   "cell_type": "code",
   "execution_count": 15,
   "metadata": {},
   "outputs": [],
   "source": [
    "def scaleme(dictionary, I, wvint):\n",
    "    '''Scales a dictionary with the proper intensity at a specified wavelength'''\n",
    "    temp = {}\n",
    "    scale = I/wvint #inputscaleing here\n",
    "    for wavelength in dictionary:\n",
    "        temp.update({wavelength : dictionary[wavelength]*scale})\n",
    "    return temp\n",
    "HeComparableTrueDict = scaleme(Heliumdict, 5.7234*10**(-12), 50)\n",
    "NeComparableTrueDict = scaleme(Neondict, 2.278*10**(-11), 500 )\n",
    "ArComparableTrueDict = scaleme(Argondict, 1.856*10**(-12), 200)\n",
    "KrComparableTrueDict = scaleme(Kryptondict, 7.49*10**(-13), 2000)\n",
    "XeComparableTrueDict = scaleme(Xenondict, 1.773*10**(-12), 500)"
   ]
  },
  {
   "cell_type": "markdown",
   "metadata": {},
   "source": [
    "## 7. Curve Fitting"
   ]
  },
  {
   "cell_type": "markdown",
   "metadata": {},
   "source": [
    "Once the dictionaries have been properly scaled and the Gaussian Spectrums have been defined, curve fitting can be applied."
   ]
  },
  {
   "cell_type": "code",
   "execution_count": 18,
   "metadata": {},
   "outputs": [],
   "source": [
    "def _generalizedgaussian(useddict):\n",
    "    useddict = useddict\n",
    "    emptylist = []\n",
    "    for x in useddict:\n",
    "        temp = (x, 1e-09, useddict[x]*10**(10))\n",
    "        emptylist.append(temp)\n",
    "    return emptylist\n",
    "def generalizedgaussian(x, a, b, c, d, e, cfudge):\n",
    "    '''Returns the function of a generalized gaussian containing all 5 elements from the database'''\n",
    "    HeList = _generalizedgaussian(HeComparableTrueDict)\n",
    "    NeList = _generalizedgaussian(NeComparableTrueDict)\n",
    "    ArList = _generalizedgaussian(ArComparableTrueDict)\n",
    "    KrList = _generalizedgaussian(KrComparableTrueDict)\n",
    "    XeList = _generalizedgaussian(XeComparableTrueDict)\n",
    "    \n",
    "    function = 0 \n",
    "    function += a*fullgaussian(x, HeList, cfudge)\n",
    "    function += b*fullgaussian(x, NeList, cfudge)\n",
    "    function += c*fullgaussian(x, ArList, cfudge)\n",
    "    function += d*fullgaussian(x, KrList, cfudge)\n",
    "    function += e*fullgaussian(x, XeList, cfudge)\n",
    "    return function"
   ]
  },
  {
   "cell_type": "markdown",
   "metadata": {},
   "source": [
    "### Curve Fitting for Helium Ampule Example"
   ]
  },
  {
   "cell_type": "code",
   "execution_count": 22,
   "metadata": {
    "scrolled": false
   },
   "outputs": [
    {
     "name": "stdout",
     "output_type": "stream",
     "text": [
      "[8.76085120e+02 8.90120095e-01 1.02922201e+02 1.02871331e+04\n",
      " 1.65941869e+04 4.05518079e-09]\n",
      "\n",
      "[4.80012168e+02 5.99166628e+02 2.74868603e+02 1.91020963e+01\n",
      " 1.36007229e+03 4.83175950e-10]\n"
     ]
    },
    {
     "data": {
      "image/png": "[encoded data removed]",
      "text/plain": [
       "<Figure size 432x288 with 1 Axes>"
      ]
     },
     "metadata": {},
     "output_type": "display_data"
    }
   ],
   "source": [
    "'''This code plots the fitted curve on the same graph as the our measured data in gaussian form this is useful for comparison'''\n",
    "location= Xenonlocation\n",
    "\n",
    "x_values = np.linspace(2.75*10**(-7), 8*10**(-7), 1200)\n",
    "xdata = x_values\n",
    "\n",
    "\n",
    "y = extrainfo(mean_data(location))\n",
    "ydata = fullgaussian(x_values, y)\n",
    "\n",
    "func = generalizedgaussian\n",
    "p0 = (0, 0, 0, 0, 1000, 0)\n",
    "popt, pcov = curve_fit(func, xdata, ydata, p0 = p0, bounds = (0, [np.inf, np.inf, np.inf, np.inf, np.inf, 1*10**-8]))\n",
    "print(popt)\n",
    "print('')\n",
    "print(np.sqrt(np.diag(pcov)))\n",
    "\n",
    "\n",
    "plt.plot(x_values, generalizedgaussian(x_values, a=popt[0], b=popt[1], c=popt[2], d=popt[3], e=popt[4], cfudge = popt[5]), label = 'fit',   alpha = 0.5)\n",
    "plt.plot(xdata, ydata, label = 'captured')\n",
    "plt.title('Fitted Xenon Ampule data plotted with captured Xenon ampule data')\n",
    "plt.xlabel(r'Wavelength (m)')\n",
    "plt.ylabel(r'Arbitrary Intensity')\n",
    "plt.legend()\n",
    "plt.show()"
   ]
  },
  {
   "cell_type": "code",
   "execution_count": 19,
   "metadata": {},
   "outputs": [],
   "source": [
    "x_values = np.linspace(2.75*10**(-7), 8*10**(-7), 1200)\n",
    "xdata = x_values\n",
    "func = generalizedgaussian\n",
    "def pcomposition(location, p0 = None, thing = None):\n",
    "    '''Returns the Percentage Composition of an ampule\n",
    "    Also returnsa pie chart containing the data\n",
    "    '''\n",
    "    x_values = np.linspace(2.75*10**(-7), 8*10**(-7), 1200)\n",
    "    location = location\n",
    "    y = extrainfo(mean_data(location))\n",
    "    ydata = fullgaussian(x_values, y)\n",
    "    popt, pcov = curve_fit(func, xdata, ydata, p0 = p0, bounds = (0, [np.inf, np.inf, np.inf, np.inf, np.inf, 1*10**-8]))\n",
    "    A = np.sum(popt) - popt[5]\n",
    "    Npopt=popt*1/A\n",
    "    error=np.sqrt(np.diag(pcov))\n",
    "    Nerror=error*1/A\n",
    "    print(popt)\n",
    "    print('')\n",
    "    print(error)\n",
    "    print('')\n",
    "    print('')\n",
    "    \n",
    "    print(f'Percentage composition of {thing}')\n",
    "    print('')\n",
    "    print(f'Helium:{Npopt[0]} ± {Nerror[0]}')\n",
    "    print(f'Neon:{Npopt[1]} ± {Nerror[1]}')\n",
    "    print(f'Argon:{Npopt[2]} ± {Nerror[2]}')\n",
    "    print(f'Krypton:{Npopt[3]} ± {Nerror[3]}')\n",
    "    print(f'Xenon:{Npopt[4]} ± {Nerror[4]}')\n",
    "    print('')\n",
    "    print(f'Wavelength shift:{popt[5]} ± {error[5]}')\n",
    "    print('')\n",
    "    labels = ['Helium', 'Neon', 'Argon','Krypton', 'Xenon']\n",
    "    sizes = [Npopt[0],Npopt[1], Npopt[2], Npopt[3], Npopt[4]]\n",
    "    explode = (0.1, 0.1, 0.1, 0.1, 0.1)\n",
    "\n",
    "    fig1, ax1 = plt.subplots()\n",
    "    ax1.pie(sizes, explode=explode, labels=labels, autopct='%1.1f%%',\n",
    "            shadow=True, startangle=90,colors = ['orange','blue','purple','green','red']) #plots the pie chart\n",
    "    ax1.axis('equal')\n",
    "    plt.title(f'Percentage composition of the {thing}')\n",
    "    plt.show()\n",
    "    print('')"
   ]
  },
  {
   "cell_type": "code",
   "execution_count": 20,
   "metadata": {
    "scrolled": false
   },
   "outputs": [
    {
     "name": "stdout",
     "output_type": "stream",
     "text": [
      "[1.05076013e+04 8.96044832e+03 3.10629702e+03 8.99949364e+02\n",
      " 6.01792932e+03 4.01520993e-13]\n",
      "\n",
      "[1.75120544e+03 1.66796441e+03 8.73087164e+02 3.17915291e+01\n",
      " 3.81476099e+02 9.18279729e-10]\n",
      "\n",
      "\n",
      "Percentage composition of Helium Ampule\n",
      "\n",
      "Helium:0.3562837734025019 ± 0.05937854520082756\n",
      "Neon:0.30382408282548645 ± 0.056556071701140624\n",
      "Argon:0.10532596247559965 ± 0.029603977103585668\n",
      "Krypton:0.030514800186656536 ± 0.0010779630473717443\n",
      "Xenon:0.2040513811097552 ± 0.01293480210959713\n",
      "\n",
      "Wavelength shift:4.0152099339133265e-13 ± 9.182797286717767e-10\n",
      "\n"
     ]
    },
    {
     "data": {
      "image/png": "[encoded data removed]",
      "text/plain": [
       "<Figure size 432x288 with 1 Axes>"
      ]
     },
     "metadata": {},
     "output_type": "display_data"
    },
    {
     "name": "stdout",
     "output_type": "stream",
     "text": [
      "\n",
      "[3.29742778e+03 1.35803272e+04 2.64208904e+03 4.11355752e+02\n",
      " 6.76316831e+03 4.06141492e-13]\n",
      "\n",
      "[2.79912080e+03 3.38120065e+03 1.61530986e+03 6.28290125e+01\n",
      " 9.34409017e+02 1.93248092e-09]\n",
      "\n",
      "\n",
      "Percentage composition of Neon Ampule\n",
      "\n",
      "Helium:0.12352522315214874 ± 0.10485810299376837\n",
      "Neon:0.5087337965484886 ± 0.12666344585019532\n",
      "Argon:0.09897552280265752 ± 0.060511260545395934\n",
      "Krypton:0.015409832908723782 ± 0.002353642994437724\n",
      "Xenon:0.2533556245879815 ± 0.03500397586362011\n",
      "\n",
      "Wavelength shift:4.0614149249358846e-13 ± 1.9324809243937765e-09\n",
      "\n"
     ]
    },
    {
     "data": {
      "image/png": "[encoded data removed]",
      "text/plain": [
       "<Figure size 432x288 with 1 Axes>"
      ]
     },
     "metadata": {},
     "output_type": "display_data"
    },
    {
     "name": "stdout",
     "output_type": "stream",
     "text": [
      "\n",
      "[2.11641082e+03 4.78590315e+03 3.43245901e+03 7.12463494e+02\n",
      " 4.72002645e+03 6.63955790e-09]\n",
      "\n",
      "[1.36162895e+03 1.48059209e+03 8.70686420e+02 2.82444575e+01\n",
      " 3.65629041e+02 1.01208400e-09]\n",
      "\n",
      "\n",
      "Percentage composition of Argon Ampule\n",
      "\n",
      "Helium:0.13422816812790414 ± 0.0863579781923192\n",
      "Neon:0.303534175495951 ± 0.09390292415863018\n",
      "Argon:0.2176952988375884 ± 0.05522115181905687\n",
      "Krypton:0.04518625064122965 ± 0.0017913354779770013\n",
      "Xenon:0.29935610689732683 ± 0.023189125649728647\n",
      "\n",
      "Wavelength shift:6.639557898816414e-09 ± 1.012083995313988e-09\n",
      "\n"
     ]
    },
    {
     "data": {
      "image/png": "[encoded data removed]",
      "text/plain": [
       "<Figure size 432x288 with 1 Axes>"
      ]
     },
     "metadata": {},
     "output_type": "display_data"
    },
    {
     "name": "stdout",
     "output_type": "stream",
     "text": [
      "\n",
      "[9.60214910e+03 1.49291132e+04 2.32387049e+03 1.03563936e+04\n",
      " 4.67110682e+04 3.93529446e-09]\n",
      "\n",
      "[1.38294281e+02 4.35701633e+01 8.90839968e+02 3.40136472e+00\n",
      " 1.43720442e+01 3.33024550e-10]\n",
      "\n",
      "\n",
      "Percentage composition of Krypton Ampule\n",
      "\n",
      "Helium:0.11441673309237896 ± 0.0016478789919410469\n",
      "Neon:0.17789146388302465 ± 0.0005191708327455166\n",
      "Argon:0.027690641582952702 ± 0.010615019382343894\n",
      "Krypton:0.12340411626483279 ± 4.0529785071774684e-05\n",
      "Xenon:0.556597045176811 ± 0.00017125357348223474\n",
      "\n",
      "Wavelength shift:3.935294457173141e-09 ± 3.330245504620563e-10\n",
      "\n"
     ]
    },
    {
     "data": {
      "image/png": "[encoded data removed]",
      "text/plain": [
       "<Figure size 432x288 with 1 Axes>"
      ]
     },
     "metadata": {},
     "output_type": "display_data"
    },
    {
     "name": "stdout",
     "output_type": "stream",
     "text": [
      "\n",
      "[8.76085120e+02 8.90120095e-01 1.02922201e+02 1.02871331e+04\n",
      " 1.65941869e+04 4.05518079e-09]\n",
      "\n",
      "[4.80012168e+02 5.99166628e+02 2.74868603e+02 1.91020963e+01\n",
      " 1.36007229e+03 4.83175950e-10]\n",
      "\n",
      "\n",
      "Percentage composition of Xenon Ampule\n",
      "\n",
      "Helium:0.03144461015017171 ± 0.017228686065321405\n",
      "Neon:3.194835607580779e-05 ± 0.02150540010846247\n",
      "Argon:0.0036941027770408625 ± 0.009865635031432465\n",
      "Krypton:0.3692276963048443 ± 0.0006856159949293587\n",
      "Xenon:0.5956016424118673 ± 0.04881596782301353\n",
      "\n",
      "Wavelength shift:4.055180792546534e-09 ± 4.831759498081682e-10\n",
      "\n"
     ]
    },
    {
     "data": {
      "image/png": "[encoded data removed]",
      "text/plain": [
       "<Figure size 432x288 with 1 Axes>"
      ]
     },
     "metadata": {},
     "output_type": "display_data"
    },
    {
     "name": "stdout",
     "output_type": "stream",
     "text": [
      "\n"
     ]
    }
   ],
   "source": [
    "'''when run returns the percentage composition of all the ampules with errors and pie charts containing the data'''\n",
    "p0 = (1000, 0, 0, 0, 0, 0)\n",
    "pcomposition(Heliumlocation, p0, thing = 'Helium Ampule' )\n",
    "p0 = (0, 1000, 0, 0, 0, 0)\n",
    "pcomposition(Neonlocation, p0, thing = 'Neon Ampule' )\n",
    "p0 = (0, 0, 1000, 0, 0, 0)\n",
    "pcomposition(Argonlocation, p0, thing = 'Argon Ampule' )\n",
    "p0 = (0, 0, 0, 1000, 0, 0)\n",
    "pcomposition(Kryptonlocation, p0, thing = 'Krypton Ampule' )\n",
    "p0 = (0, 0, 0, 0, 1000,0)\n",
    "pcomposition(Xenonlocation, p0, thing = 'Xenon Ampule' )"
   ]
  }
 ],
 "metadata": {
  "kernelspec": {
   "display_name": "Python 3",
   "language": "python",
   "name": "python3"
  },
  "language_info": {
   "codemirror_mode": {
    "name": "ipython",
    "version": 3
   },
   "file_extension": ".py",
   "mimetype": "text/x-python",
   "name": "python",
   "nbconvert_exporter": "python",
   "pygments_lexer": "ipython3",
   "version": "3.6.5"
  }
 },
 "nbformat": 4,
 "nbformat_minor": 2
}
