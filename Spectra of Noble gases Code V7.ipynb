{
 "cells": [
  {
   "cell_type": "code",
   "execution_count": 1,
   "metadata": {},
   "outputs": [],
   "source": [
    "%matplotlib inline"
   ]
  },
  {
   "cell_type": "markdown",
   "metadata": {},
   "source": [
    "\n",
    "# Averaging multiple FITS file Images and producing a Spectroscopic Graph\n",
    "\n",
    "\n",
    "This notebook will open all the FITS file in a single folder and averages it. It will also produce a graph of intensity vs pixel number\n",
    "\n",
    "This example uses `astropy.utils.data` to download the file, `astropy.io.fits` to open\n",
    "the file, and `matplotlib.pyplot` to display the image.\n",
    "\n",
    "-------------------\n",
    "\n",
    "*By: Emir Muhammad and Edward Penny*\n",
    "\n",
    "*License: BSD*\n",
    "\n",
    "-------------------\n",
    "\n",
    "\n",
    "\n"
   ]
  },
  {
   "cell_type": "markdown",
   "metadata": {},
   "source": [
    "Set up matplotlib, numpy, astropy and os modules\n"
   ]
  },
  {
   "cell_type": "code",
   "execution_count": 21,
   "metadata": {},
   "outputs": [],
   "source": [
    "import os\n",
    "import numpy as np\n",
    "import matplotlib.pyplot as plt\n",
    "from astropy.visualization import astropy_mpl_style\n",
    "plt.style.use(astropy_mpl_style)\n",
    "from astropy.utils.data import get_pkg_data_filename\n",
    "from astropy.io import fits\n",
    "\n",
    "from scipy.signal import find_peaks\n",
    "from scipy.signal import peak_prominences\n",
    "from scipy.signal import peak_widths\n",
    "from scipy.optimize import curve_fit\n"
   ]
  },
  {
   "cell_type": "markdown",
   "metadata": {},
   "source": [
    "### Importing all the necessary strings for importing the data\n",
    "The code below works for only Emir and Edward on their own machines, as this is where they have placed their data. If you wish to run this correctly on your machine, please copy the required code below and do the necessary changes"
   ]
  },
  {
   "cell_type": "code",
   "execution_count": 22,
   "metadata": {},
   "outputs": [
    {
     "name": "stdout",
     "output_type": "stream",
     "text": [
      "This code is too important for me to allow you to jeopardize it\n"
     ]
    }
   ],
   "source": [
    "name_of_owner = 'Edward'\n",
    "\n",
    "if name_of_owner == 'Emir':\n",
    "    Xenonlocation = '/Users/emirmuhammad/Desktop/Ed-Em-Y2Spec/Xenon Data/' \n",
    "    Kryptonlocation = '/Users/emirmuhammad/Desktop/Ed-Em-Y2Spec/Krypton Data/' \n",
    "    Argonlocation = '/Users/emirmuhammad/Desktop/Ed-Em-Y2Spec/Argon Data/'\n",
    "    Neonlocation = '/Users/emirmuhammad/Desktop/Ed-Em-Y2Spec/Neon Data/'\n",
    "    Heliumlocation = '/Users/emirmuhammad/Desktop/Ed-Em-Y2Spec/Helium 500/'\n",
    "    Cadmiumlocation = '/Users/emirmuhammad/Desktop/Ed-Em-Y2Spec/Cadmium Calibration Data/'\n",
    "    LampNeonlocation = '/Users/emirmuhammad/Desktop/Ed-Em-Y2Spec/Neon discharge lamp data/'\n",
    "    LampXenonlocation = '/Users/emirmuhammad/Desktop/Ed-Em-Y2Spec/Extra Xenon data/'\n",
    "\n",
    "    heliumtext = '/Users/emirmuhammad/Desktop/Ed-Em-Y2Spec/Atomic Data/helium.txt'\n",
    "    neontext = '/Users/emirmuhammad/Desktop/Ed-Em-Y2Spec/Atomic Data/fakeneon.txt'\n",
    "    argontext = '/Users/emirmuhammad/Desktop/Ed-Em-Y2Spec/Atomic Data/fakeargon.txt' #YO THIS THING IS FAKE ARGON\n",
    "    kryptontext = '/Users/emirmuhammad/Desktop/Ed-Em-Y2Spec/Atomic Data/krypton.txt'\n",
    "    xenontext = '/Users/emirmuhammad/Desktop/Ed-Em-Y2Spec/Atomic Data/xenon.txt'\n",
    "    \n",
    "    print('You are a bold one.')\n",
    "elif name_of_owner == 'Edward': \n",
    "    Xenonlocation = '/Users/Edward/Documents/year 2/lab project/Ed-Em-Y2Spec/Xenon data/'  \n",
    "    Kryptonlocation = '/Users/Edward/Documents/year 2/lab project/Ed-Em-Y2Spec/Krypton data/'  \n",
    "    Argonlocation = '/Users/Edward/Documents/year 2/lab project/Ed-Em-Y2Spec/Argon Data/'\n",
    "    Neonlocation = '/Users/Edward/Documents/year 2/lab project/Ed-Em-Y2Spec/Neon Data/'\n",
    "    Heliumlocation = '/Users/Edward/Documents/year 2/lab project/Ed-Em-Y2Spec/Helium Data/'\n",
    "    Cadmiumlocation = '/Users/Edward/Documents/year 2/lab project/Ed-Em-Y2Spec/Cadmium Calibration Data/'\n",
    "\n",
    "    heliumtext = '/Users/Edward/Documents/year 2/lab project/Atomic Data/helium.txt'\n",
    "    neontext = '/Users/Edward/Documents/year 2/lab project/Atomic Data/neon.txt'\n",
    "    argontext = '/Users/Edward/Documents/year 2/lab project/Atomic Data/argon.txt'\n",
    "    kryptontext = '/Users/Edward/Documents/year 2/lab project/Atomic Data/krypton.txt'\n",
    "    xenontext = '/Users/Edward/Documents/year 2/lab project/Atomic Data/xenon.txt'\n",
    "    \n",
    "    print('This code is too important for me to allow you to jeopardize it')\n",
    "\n",
    "else:\n",
    "    print('please add in the correct name, else the entire code will not run.')\n",
    "    print(0/0)"
   ]
  },
  {
   "cell_type": "markdown",
   "metadata": {},
   "source": [
    "# Defining the required functions for plotting and analyzing the spectrum"
   ]
  },
  {
   "cell_type": "code",
   "execution_count": 23,
   "metadata": {},
   "outputs": [],
   "source": [
    "def mean_data(location):\n",
    "    '''Requires the location as a folder for where all the data is kept, and all the data should be a fit file.\n",
    "    Returns a 2d array, of the average values from all files'''\n",
    "    tracks = []\n",
    "    for i in os.listdir(location):\n",
    "        if i.endswith(\".fit\"):\n",
    "            filename =location + '/' + str(i)\n",
    "            image_file = get_pkg_data_filename(filename)\n",
    "            image_data = fits.getdata(image_file, ext=0) #uses astropy module to convert the fit file into an array\n",
    "            tracks.append(image_data)\n",
    "    mean = np.mean(tracks, axis = 0)\n",
    "    return mean"
   ]
  },
  {
   "cell_type": "code",
   "execution_count": 24,
   "metadata": {},
   "outputs": [],
   "source": [
    "def plot_datapx(data, a=240, b=360):\n",
    "    '''plots the data, intensity vs pixel as well as the image itself'''\n",
    "    data = data\n",
    "    snipmean = data[a:b]   #snipmean isolates a rectangular section of the image\n",
    "    numberofx = snipmean.shape[1]\n",
    "    x = np.linspace(1, numberofx, numberofx)\n",
    "    y = np.mean(snipmean, axis = 0)\n",
    "    plt.title('Plot of superMean Intensity Vs Pixel Number') #you should change this with the title\n",
    "    plt.xlabel(r'Wavelength (m)')\n",
    "    plt.ylabel(r'Intensity(arbitrary units)')\n",
    "    plt.plot(x, y)\n",
    "    plt.show()\n",
    "    plt.figure()\n",
    "    plt.imshow(data, cmap='gray')\n",
    "    plt.colorbar()"
   ]
  },
  {
   "cell_type": "code",
   "execution_count": 25,
   "metadata": {},
   "outputs": [],
   "source": [
    "def plot_datawv(data, a=240, b=360, MINspacebetweenpeaks = 10, PROMCUTOFF = 250, Element = None):\n",
    "    '''plots data, intensity vs wavelength. Wavelength calibration was done in labs'''\n",
    "    data = data\n",
    "    snipmean = data[a:b]      #snipmean isolates a rectangular section of the image\n",
    "    numberofx = snipmean.shape[1]\n",
    "    xt = np.linspace(1, numberofx, numberofx)\n",
    "    A = 6.640*10**(-10) #wavelength calibration\n",
    "    B = 2.736*10**(-7)  #wavelength calibration\n",
    "    x = A*xt + B        #wavelength calibration\n",
    "    y = np.mean(snipmean, axis = 0)\n",
    "    if Element == None:  #title plotting\n",
    "        plt.title(f'Plot of Mean Intensity Vs Wavelength')\n",
    "    else:\n",
    "        plt.title(f'Plot of Mean Intensity Vs Wavelength {Element}')\n",
    "    plt.xlabel(r'Wavelength (m)')\n",
    "    plt.ylabel(r'Intensity(arbitrary units)')\n",
    "    \n",
    "    peaks,_ = find_peaks(y, distance = MINspacebetweenpeaks)\n",
    "    proms = peak_prominences(y, peaks)[0]\n",
    "    proms[proms < PROMCUTOFF] = 0 # making an array of 1's and 0's \n",
    "    promsford = list(proms)\n",
    "    L0 = promsford.count(0)\n",
    "    DC = 0\n",
    "    while DC<L0:\n",
    "        DC +=1\n",
    "        promsford.remove(0) # finding prominences for the dictionary\n",
    "    proms[proms > PROMCUTOFF] = 1 # making an array of 1's and 0's\n",
    "    proms[proms == PROMCUTOFF] = 1 \n",
    "    keypeaks = proms*peaks # setting all peaks with low prominences to 0\n",
    "    Lkeypeaks = list(keypeaks) # have to make it into a list to use count and remove\n",
    "    L1= Lkeypeaks.count(0) # finding the number of 0's for the loop\n",
    "    RC= 0 \n",
    "    while RC<L1:\n",
    "        RC +=1\n",
    "        Lkeypeaks.remove(0) # remove only removes the first 0 so have to loop it through\n",
    "    keypeaks = np.array(Lkeypeaks) # convert back to an array for the graphing\n",
    "    Wavelengthsford= A*keypeaks + B\n",
    "    Wavelengthsford = list(Wavelengthsford) #getting wavelengths of peaks for the dictionary\n",
    "    for n in np.nditer(keypeaks):\n",
    "        plt.axvline(x= A*n+ B,linestyle=':', color = 'r', label='f0')\n",
    "    plt.plot(x, y)\n",
    "    Peaksdict = {}\n",
    "    for i in range(len(promsford)): #assembling the peak dictionary\n",
    "        Peaksdict[Wavelengthsford[i]] = promsford[i]\n",
    "    plt.show()\n",
    "    return None"
   ]
  },
  {
   "cell_type": "code",
   "execution_count": 26,
   "metadata": {},
   "outputs": [],
   "source": [
    "def peaks_datawv(data, a=210, b=410, MINspacebetweenpeaks = 10, PROMCUTOFF = 250):\n",
    "    '''returns a dictionary of distinct peaks in a specified range'''\n",
    "    data = data\n",
    "    snipmean = data[a:b]\n",
    "    numberofx = snipmean.shape[1]\n",
    "    xt = np.linspace(1, numberofx, numberofx)\n",
    "    A = 6.640*10**(-10) #calibration from pixels to wavelengths\n",
    "    B = 2.736*10**(-7)\n",
    "    x = A*xt + B\n",
    "    y = np.mean(snipmean, axis = 0)\n",
    "    peaks,_ = find_peaks(y, distance = MINspacebetweenpeaks)\n",
    "    proms = peak_prominences(y, peaks)[0]\n",
    "    proms[proms < PROMCUTOFF] = 0 # making an array of 1's and 0's \n",
    "    promsford = list(proms)\n",
    "    L0 = promsford.count(0)\n",
    "    DC = 0\n",
    "    while DC<L0:\n",
    "        DC +=1\n",
    "        promsford.remove(0) # finding prominences for the dictionary\n",
    "    proms[proms > PROMCUTOFF] = 1 # making an array of 1's and 0's \n",
    "    keypeaks = proms*peaks # setting all peaks with low prominences to 0\n",
    "    Lkeypeaks = list(keypeaks) # have to make it into a list to use count and remove\n",
    "    L1= Lkeypeaks.count(0) # finding the number of 0's for the loop\n",
    "    RC= 0 \n",
    "    while RC<L1:\n",
    "        RC +=1\n",
    "        Lkeypeaks.remove(0) # remove only removes the first 0 so have to loop it through\n",
    "    keypeaks = np.array(Lkeypeaks) # convert back to an array for the graphing\n",
    "    Wavelengthsford= A*keypeaks + B\n",
    "    Wavelengthsford = list(Wavelengthsford) #getting wavelengths of peaks for the dictionary\n",
    "    Peaksdict = {}\n",
    "    for i in range(len(promsford)): #assembling the peak dictionary\n",
    "        Peaksdict[Wavelengthsford[i]] = promsford[i]\n",
    "    return Peaksdict"
   ]
  },
  {
   "cell_type": "code",
   "execution_count": 27,
   "metadata": {},
   "outputs": [],
   "source": [
    "def extrainfo(data, a=240, b=360, MINspacebetweenpeaks = 10, PROMCUTOFF = 250):\n",
    "    ''' returns a list of arrays containing (wavelength, width, intensity) of each peak'''\n",
    "    data = data\n",
    "    snipmean = data[a:b]\n",
    "    numberofx = snipmean.shape[1]\n",
    "    xt = np.linspace(1, numberofx, numberofx)\n",
    "    A = 6.640*10**(-10)\n",
    "    B = 2.736*10**(-7)\n",
    "    x = A*xt + B\n",
    "    y = np.mean(snipmean, axis = 0)\n",
    "    peaks,_ = find_peaks(y, distance = MINspacebetweenpeaks)\n",
    "    proms = peak_prominences(y, peaks)[0]\n",
    "    proms[proms < PROMCUTOFF] = 0 # making an array of 1's and 0's \n",
    "    promsford = list(proms)\n",
    "    L0 = promsford.count(0)\n",
    "    DC = 0\n",
    "    while DC<L0:\n",
    "        DC +=1\n",
    "        promsford.remove(0) # finding prominences for the dictionary\n",
    "    proms[proms > PROMCUTOFF] = 1 # making an array of 1's and 0's \n",
    "    keypeaks = proms*peaks # setting all peaks with low prominences to 0\n",
    "    Lkeypeaks = list(keypeaks) # have to make it into a list to use count and remove\n",
    "    L1= Lkeypeaks.count(0) # finding the number of 0's for the loop\n",
    "    RC= 0 \n",
    "    while RC<L1:\n",
    "        RC +=1\n",
    "        Lkeypeaks.remove(0) # remove only removes the first 0 so have to loop it through\n",
    "    keypeaks = np.array(Lkeypeaks) # convert back to an array for the graphing\n",
    "    Wavelengthsford= A*keypeaks + B\n",
    "    Wavelengthsford = list(Wavelengthsford) #getting wavelengths of peaks for the dictionary\n",
    "    Peaksdict = {}\n",
    "    for i in range(len(promsford)): #assembling the peak dictionary\n",
    "        Peaksdict[Wavelengthsford[i]] = promsford[i]\n",
    "\n",
    "        \n",
    "    '''finding rel intensities'''\n",
    "    keypeaks =keypeaks.astype(int)\n",
    "    peaksy = []\n",
    "    for n in keypeaks:\n",
    "        peaksy.append(y[n])\n",
    "    TT=np.max(peaksy)\n",
    "    relint=(peaksy) #replace 1 with 1000/TT\n",
    "    Relintdict = {}\n",
    "    for i in range(len(peaksy)):\n",
    "        Relintdict[Wavelengthsford[i]] = relint[i]\n",
    "    widths = peak_widths(y, keypeaks)\n",
    "    Wavelengthsford=np.array(Wavelengthsford)\n",
    "    widths=widths[0]\n",
    "    GD=[]\n",
    "    for a,b,c in zip(Wavelengthsford,relint,widths):\n",
    "        temp=(a, c*A, b)\n",
    "        GD.append(temp)\n",
    "    return(GD)"
   ]
  },
  {
   "cell_type": "markdown",
   "metadata": {},
   "source": [
    "# Importing the dictionaries from the text files"
   ]
  },
  {
   "cell_type": "code",
   "execution_count": 28,
   "metadata": {},
   "outputs": [
    {
     "name": "stdout",
     "output_type": "stream",
     "text": [
      "{3.9647300000000003e-07: 20.0, 4.00927e-07: 1.0, 4.02619e-07: 50.0, 4.02636e-07: 5.0, 4.1208199999999997e-07: 12.0, 4.12099e-07: 2.0, 4.1437600000000003e-07: 3.0, 4.3879300000000006e-07: 10.0, 4.43755e-07: 3.0, 4.47148e-07: 200.0, 4.4716800000000005e-07: 25.0, 4.6854e-07: 6.0, 4.6857e-07: 30.0, 4.71315e-07: 30.0, 4.7133800000000003e-07: 4.0, 4.92193e-07: 20.0, 5.015680000000001e-07: 100.0, 5.04774e-07: 10.0, 5.411520000000001e-07: 5.0, 5.87562e-07: 500.0, 5.87597e-07: 100.0, 6.5601e-07: 8.0, 6.67815e-07: 100.0, 6.86748e-07: 3.0, 7.06519e-07: 200.0, 7.06571e-07: 30.0}\n"
     ]
    }
   ],
   "source": [
    "def importdict(textlocation):\n",
    "    f=open(textlocation,\"r\")\n",
    "    lines=f.readlines()\n",
    "    result=[]\n",
    "    results2 = []\n",
    "    for x in lines:\n",
    "        result.append(x.split(' ')[0])\n",
    "        results2.append(x.split(' ')[-1])\n",
    "    f.close()\n",
    "    a = [float(i) for i in results2]\n",
    "    #in this bit put the code to ma\n",
    "    temp = {}\n",
    "    results = [float(i)*10**(-10) for i in result]\n",
    "    for i in range(len(result)): #assembling the peak dictionary\n",
    "        temp[results[i]] = a[i]\n",
    "    return temp\n",
    "\n",
    "Heliumdict = importdict(heliumtext)\n",
    "Neondict = importdict(neontext)\n",
    "Argondict = importdict(argontext)\n",
    "Kryptondict = importdict(kryptontext)\n",
    "Xenondict = importdict(xenontext)\n",
    "\n",
    "print(Heliumdict)"
   ]
  },
  {
   "cell_type": "code",
   "execution_count": 29,
   "metadata": {
    "scrolled": false
   },
   "outputs": [],
   "source": [
    "'''Master Dictionary'''\n",
    "True_element_rel_in_d = {'He': Heliumdict, 'Ne' : Neondict, 'Ar' : Argondict, 'Kr':  Kryptondict, 'Xe' : Xenondict}\n",
    "\n",
    "'''datad is the dictionary of element and wavelengths'''\n",
    "datad= {}\n",
    "for keys in True_element_rel_in_d.keys():\n",
    "    datad.update({f'{keys}': list(True_element_rel_in_d.get(f'{keys}').keys())})"
   ]
  },
  {
   "cell_type": "markdown",
   "metadata": {},
   "source": [
    "## Wavelength matching function"
   ]
  },
  {
   "cell_type": "code",
   "execution_count": 30,
   "metadata": {},
   "outputs": [],
   "source": [
    "def matchelements(location): \n",
    "    testunknown= peaks_datawv(mean_data(location))\n",
    "    unknown = list(testunknown.keys())\n",
    "    founddict = {}\n",
    "    for element in datad.keys():\n",
    "        thelist = []\n",
    "        for x in unknown:\n",
    "            for y in datad.get(element):\n",
    "                if abs(x - y) < 2*6.640*10**(-10):  #GET RID OF THE TIMES 2 MULTIPLE\n",
    "                    thelist.append(round(y, 11))\n",
    "        founddict.update({f'{element}' : thelist})\n",
    "    return founddict"
   ]
  },
  {
   "cell_type": "markdown",
   "metadata": {},
   "source": [
    "# Gaussian Conversion"
   ]
  },
  {
   "cell_type": "code",
   "execution_count": 31,
   "metadata": {},
   "outputs": [],
   "source": [
    "def gaussian(x, mu, sig, a, cfudge = 0):\n",
    "    return a*np.exp(-np.power(x - mu - (cfudge), 2.) / (2 * np.power(sig, 2.)))\n",
    "\n",
    "def fullgaussian(x, y, cfudge = 0):\n",
    "    b = 0\n",
    "    for mu, sig, a in y:\n",
    "        b += gaussian(x, mu, sig, a, cfudge)\n",
    "    return b\n",
    "    \n",
    "def plotgaussiandict(useddict, Element = None):\n",
    "    emptylist = []\n",
    "    x_values = np.linspace(2.75*10**(-7), 8*10**(-7), 1200)\n",
    "    useddict = useddict\n",
    "    for x in useddict:\n",
    "        temp = (x, 1e-09, useddict[x]*100)\n",
    "        emptylist.append(temp)\n",
    "    plt.plot(x_values, fullgaussian(x_values, emptylist))\n",
    "    plt.xlabel(r'Wavelength (m)')\n",
    "    plt.ylabel(r'Arbitrary Intensity')\n",
    "    if Element == None:\n",
    "        plt.title(f'Gaussian-Converted Plot of Dictionary')\n",
    "    else:\n",
    "        plt.title(f'Gaussian-Converted Plot of Dictionary {Element}')\n",
    "    plt.show()\n",
    "    \n",
    "def plotgaussianspectrum(location, Element = None):\n",
    "    x_values = np.linspace(2.75*10**(-7), 8*10**(-7), 1200)\n",
    "    y = extrainfo(mean_data(location))\n",
    "    plt.plot(x_values-1, fullgaussian(x_values, y))\n",
    "    plt.xlabel(r'Wavelength (m)')\n",
    "    plt.ylabel(r'Arbitrary Intensity')\n",
    "    if Element == None:\n",
    "        plt.title(f'Gaussian-Converted Plot of Captured Spectrum')\n",
    "    else:\n",
    "        plt.title(f'Gaussian-Converted Plot of Captured {Element} Spectrum')\n",
    "    plt.show()"
   ]
  },
  {
   "cell_type": "code",
   "execution_count": 32,
   "metadata": {},
   "outputs": [],
   "source": [
    "def plotgaussianmatchedspect(location, Element = None):\n",
    "    x_values = np.linspace(2.75*10**(-7), 8*10**(-7), 1200)\n",
    "    y = extrainfo(mean_data(location))\n",
    "    plt.plot(x_values, fullgaussian(x_values, y))\n",
    "    plt.xlabel(r'Wavelength (m)')\n",
    "    plt.ylabel(r'Arbitrary Intensity')\n",
    "    testloc = matchelements(location)\n",
    "    for a in testloc.keys():\n",
    "        if a == 'He':\n",
    "            color = 'b'\n",
    "        elif a == 'Ne':\n",
    "            color = 'g'\n",
    "        elif a == 'Ar':\n",
    "            color = 'r'\n",
    "        elif a == 'Kr':\n",
    "            color = 'c'\n",
    "        elif a == 'Xe':\n",
    "            color = 'm'\n",
    "        plt.axvline(testloc[a][0], linestyle=':', color = color, label = a) #duplicate line for labeling purposes\n",
    "        for x in testloc[a]:\n",
    "            plt.axvline(x,linestyle=':', color = color)            \n",
    "    if Element == None:\n",
    "        plt.title(f'Plot of Matched Gaussian Lines')\n",
    "    else:\n",
    "        plt.title(f'Plot of Matched Gaussian Lines {Element}')\n",
    "    plt.legend()\n",
    "    plt.show()"
   ]
  },
  {
   "cell_type": "markdown",
   "metadata": {},
   "source": [
    "### An attempt at actually seeing which bits are matched up "
   ]
  },
  {
   "cell_type": "code",
   "execution_count": 33,
   "metadata": {},
   "outputs": [],
   "source": [
    "def plotgaussiandicttemp(useddict, x_values, multiple):\n",
    "    emptylist = []\n",
    "    useddict = useddict\n",
    "    for x in useddict:\n",
    "        temp = (x, 1e-09, useddict[x]*multiple)\n",
    "        emptylist.append(temp)\n",
    "    plt.plot(x_values, fullgaussian(x_values, emptylist), label = 'database', alpha = 0.5, marker = ',')\n",
    "\n",
    "\n",
    "def tempanalysis(a, location, testloc, color, Element, x_values, y, multiple = 50):\n",
    "    #testloc = matchelements(location)\n",
    "    plt.axvline(testloc[a][0], linestyle=':', color = color, label = a)\n",
    "    for x in testloc[a]:\n",
    "        plt.axvline(x,linestyle=':', color = color)\n",
    "    if Element == None:\n",
    "        plt.title(f'Plot of Matched Gaussian Lines')\n",
    "    else:\n",
    "        plt.title(f'Plot of Matched Gaussian Lines {Element}')\n",
    "    plt.plot(x_values, fullgaussian(x_values, y))\n",
    "    plotgaussiandicttemp(True_element_rel_in_d[a], x_values, multiple)    \n",
    "    plt.xlabel(r'Wavelength (m)')\n",
    "    plt.ylabel(r'Arbitrary Intensity')\n",
    "    plt.legend()\n",
    "    plt.show()\n",
    "\n",
    "def plotgaussiananalysis(location, Element = None):\n",
    "    location = location\n",
    "    testloc = matchelements(location)\n",
    "    x_values = np.linspace(2.75*10**(-7), 8*10**(-7), 1200)\n",
    "    y = extrainfo(mean_data(location))\n",
    "\n",
    "    for a in testloc.keys():\n",
    "        if a == 'He':\n",
    "            color = 'b'\n",
    "            tempanalysis(a, location, testloc, color, Element, x_values, y, multiple = 15)\n",
    "        elif a == 'Ne':\n",
    "            color = 'g'\n",
    "            tempanalysis(a, location, testloc, color, Element, x_values, y, multiple = 50)\n",
    "        elif a == 'Ar':\n",
    "            color = 'r'\n",
    "            tempanalysis(a, location, testloc, color, Element, x_values, y, multiple = 7.5)\n",
    "        elif a == 'Kr':\n",
    "            color = 'c'\n",
    "            tempanalysis(a, location, testloc, color, Element, x_values, y, multiple = 5)\n",
    "        elif a == 'Xe':\n",
    "            color = 'm'\n",
    "            tempanalysis(a, location, testloc, color, Element, x_values, y, multiple = 10)\n",
    "def singleanalysis(location, a, multiple, Element = None):\n",
    "    location = location\n",
    "    testloc = matchelements(location)\n",
    "    x_values = np.linspace(2.75*10**(-7), 8*10**(-7), 1200)\n",
    "    y = extrainfo(mean_data(location))\n",
    "    useddict = True_element_rel_in_d[a]\n",
    "    color = 'k'\n",
    "    plt.plot(x_values, fullgaussian(x_values,y), label = 'captured')\n",
    "    plotgaussiandicttemp(useddict, x_values, multiple)\n",
    "    plt.legend()\n",
    "    plt.show()"
   ]
  },
  {
   "cell_type": "markdown",
   "metadata": {},
   "source": [
    "# Scaling Dictionaries"
   ]
  },
  {
   "cell_type": "code",
   "execution_count": 34,
   "metadata": {},
   "outputs": [],
   "source": [
    "I = 5.7234*10**(-12)\n",
    "scale = I/50"
   ]
  },
  {
   "cell_type": "code",
   "execution_count": 35,
   "metadata": {},
   "outputs": [],
   "source": [
    "def scaleme(dictionary,I, wvint):\n",
    "    temp = {}\n",
    "    scale = I/wvint #inputscaleing here\n",
    "    for wavelength in dictionary:\n",
    "        temp.update({wavelength : dictionary[wavelength]*scale})\n",
    "    return temp\n",
    "HeRelativelyTrueDict = scaleme(Heliumdict, 5.7234*10**(-12), 50)\n",
    "NeRelativelyTrueDict = scaleme(Neondict, 2.278*10**(-11), 500 )\n",
    "ArRelativelyTrueDict = scaleme(Argondict, 1.856*10**(-12), 200)\n",
    "KrRelativelyTrueDict = scaleme(Kryptondict, 7.49*10**(-13), 2000)\n",
    "XeRelativelyTrueDict = scaleme(Xenondict, 1.773*10**(-12), 500)"
   ]
  },
  {
   "cell_type": "markdown",
   "metadata": {},
   "source": [
    "# Curve Fitting"
   ]
  },
  {
   "cell_type": "code",
   "execution_count": 36,
   "metadata": {},
   "outputs": [],
   "source": [
    "def _generalizedgaussian(useddict):\n",
    "    '''converts the true data to a plot where each peak is represented by a gaussian'''\n",
    "    useddict = useddict\n",
    "    emptylist = []\n",
    "    for x in useddict:\n",
    "        temp = (x, 1e-09, useddict[x]*10**(10))\n",
    "        emptylist.append(temp)\n",
    "    return emptylist\n",
    "def generalizedgaussian(x, a, b, c, d, e, cfudge):\n",
    "    '''combines all true data into one plot which can be fitted to the measured data by changing a,b,c,d, and e'''\n",
    "    HeList = _generalizedgaussian(HeRelativelyTrueDict)\n",
    "    NeList = _generalizedgaussian(NeRelativelyTrueDict)\n",
    "    ArList = _generalizedgaussian(ArRelativelyTrueDict)\n",
    "    KrList = _generalizedgaussian(KrRelativelyTrueDict)\n",
    "    XeList = _generalizedgaussian(XeRelativelyTrueDict)\n",
    "    \n",
    "    function = 0 \n",
    "    function += a*fullgaussian(x, HeList, cfudge)\n",
    "    function += b*fullgaussian(x, NeList, cfudge)\n",
    "    function += c*fullgaussian(x, ArList, cfudge)\n",
    "    function += d*fullgaussian(x, KrList, cfudge)\n",
    "    function += e*fullgaussian(x, XeList, cfudge)\n",
    "    return function"
   ]
  },
  {
   "cell_type": "code",
   "execution_count": 37,
   "metadata": {},
   "outputs": [
    {
     "data": {
      "text/plain": [
       "\"\\nx_values = np.linspace(2.75*10**(-7), 8*10**(-7), 1200)\\nxdata = x_values\\nydata = generalizedgaussian(xdata, 1, 0, 0, 0, 0, 0*10**(-7))\\nplt.plot(xdata, ydata, label = 'captured', alpha = 1)\\nplt.legend()\\nplt.show()\\n\\n\""
      ]
     },
     "execution_count": 37,
     "metadata": {},
     "output_type": "execute_result"
    }
   ],
   "source": [
    "'''\n",
    "x_values = np.linspace(2.75*10**(-7), 8*10**(-7), 1200)\n",
    "xdata = x_values\n",
    "ydata = generalizedgaussian(xdata, 1, 0, 0, 0, 0, 0*10**(-7))\n",
    "plt.plot(xdata, ydata, label = 'captured', alpha = 1)\n",
    "plt.legend()\n",
    "plt.show()\n",
    "\n",
    "'''"
   ]
  },
  {
   "cell_type": "markdown",
   "metadata": {},
   "source": [
    "# Curve Fitting for the Neon Lamp"
   ]
  },
  {
   "cell_type": "code",
   "execution_count": 38,
   "metadata": {},
   "outputs": [
    {
     "ename": "NameError",
     "evalue": "name 'LampNeonlocation' is not defined",
     "output_type": "error",
     "traceback": [
      "\u001b[1;31m---------------------------------------------------------------------------\u001b[0m",
      "\u001b[1;31mNameError\u001b[0m                                 Traceback (most recent call last)",
      "\u001b[1;32m<ipython-input-38-cad4d25e888b>\u001b[0m in \u001b[0;36m<module>\u001b[1;34m()\u001b[0m\n\u001b[1;32m----> 1\u001b[1;33m \u001b[0mlocation\u001b[0m\u001b[1;33m=\u001b[0m \u001b[0mLampNeonlocation\u001b[0m\u001b[1;33m\u001b[0m\u001b[0m\n\u001b[0m\u001b[0;32m      2\u001b[0m \u001b[1;33m\u001b[0m\u001b[0m\n\u001b[0;32m      3\u001b[0m \u001b[0mx_values\u001b[0m \u001b[1;33m=\u001b[0m \u001b[0mnp\u001b[0m\u001b[1;33m.\u001b[0m\u001b[0mlinspace\u001b[0m\u001b[1;33m(\u001b[0m\u001b[1;36m2.75\u001b[0m\u001b[1;33m*\u001b[0m\u001b[1;36m10\u001b[0m\u001b[1;33m**\u001b[0m\u001b[1;33m(\u001b[0m\u001b[1;33m-\u001b[0m\u001b[1;36m7\u001b[0m\u001b[1;33m)\u001b[0m\u001b[1;33m,\u001b[0m \u001b[1;36m8\u001b[0m\u001b[1;33m*\u001b[0m\u001b[1;36m10\u001b[0m\u001b[1;33m**\u001b[0m\u001b[1;33m(\u001b[0m\u001b[1;33m-\u001b[0m\u001b[1;36m7\u001b[0m\u001b[1;33m)\u001b[0m\u001b[1;33m,\u001b[0m \u001b[1;36m1200\u001b[0m\u001b[1;33m)\u001b[0m\u001b[1;33m\u001b[0m\u001b[0m\n\u001b[0;32m      4\u001b[0m \u001b[0mxdata\u001b[0m \u001b[1;33m=\u001b[0m \u001b[0mx_values\u001b[0m\u001b[1;33m\u001b[0m\u001b[0m\n\u001b[0;32m      5\u001b[0m \u001b[1;33m\u001b[0m\u001b[0m\n",
      "\u001b[1;31mNameError\u001b[0m: name 'LampNeonlocation' is not defined"
     ]
    }
   ],
   "source": [
    "location= LampNeonlocation\n",
    "\n",
    "x_values = np.linspace(2.75*10**(-7), 8*10**(-7), 1200)\n",
    "xdata = x_values\n",
    "\n",
    "\n",
    "y = extrainfo(mean_data(location))\n",
    "ydata = fullgaussian(x_values, y)\n",
    "\n",
    "func = generalizedgaussian\n",
    "p0 = (0, 10000, 0, 0, 0, 0)\n",
    "popt, pcov = curve_fit(func, xdata, ydata, p0 = p0, bounds = (0, np.inf))\n",
    "print(popt)\n",
    "print(np.sqrt(np.diag(pcov)))"
   ]
  },
  {
   "cell_type": "code",
   "execution_count": 39,
   "metadata": {},
   "outputs": [
    {
     "ename": "NameError",
     "evalue": "name 'x_values' is not defined",
     "output_type": "error",
     "traceback": [
      "\u001b[1;31m---------------------------------------------------------------------------\u001b[0m",
      "\u001b[1;31mNameError\u001b[0m                                 Traceback (most recent call last)",
      "\u001b[1;32m<ipython-input-39-bf162c57355e>\u001b[0m in \u001b[0;36m<module>\u001b[1;34m()\u001b[0m\n\u001b[1;32m----> 1\u001b[1;33m \u001b[0mplt\u001b[0m\u001b[1;33m.\u001b[0m\u001b[0mplot\u001b[0m\u001b[1;33m(\u001b[0m\u001b[0mx_values\u001b[0m\u001b[1;33m,\u001b[0m \u001b[0mgeneralizedgaussian\u001b[0m\u001b[1;33m(\u001b[0m\u001b[0mx_values\u001b[0m\u001b[1;33m,\u001b[0m \u001b[0ma\u001b[0m\u001b[1;33m=\u001b[0m\u001b[0mpopt\u001b[0m\u001b[1;33m[\u001b[0m\u001b[1;36m0\u001b[0m\u001b[1;33m]\u001b[0m\u001b[1;33m,\u001b[0m \u001b[0mb\u001b[0m\u001b[1;33m=\u001b[0m\u001b[0mpopt\u001b[0m\u001b[1;33m[\u001b[0m\u001b[1;36m1\u001b[0m\u001b[1;33m]\u001b[0m\u001b[1;33m,\u001b[0m \u001b[0mc\u001b[0m\u001b[1;33m=\u001b[0m\u001b[0mpopt\u001b[0m\u001b[1;33m[\u001b[0m\u001b[1;36m2\u001b[0m\u001b[1;33m]\u001b[0m\u001b[1;33m,\u001b[0m \u001b[0md\u001b[0m\u001b[1;33m=\u001b[0m\u001b[0mpopt\u001b[0m\u001b[1;33m[\u001b[0m\u001b[1;36m3\u001b[0m\u001b[1;33m]\u001b[0m\u001b[1;33m,\u001b[0m \u001b[0me\u001b[0m\u001b[1;33m=\u001b[0m\u001b[0mpopt\u001b[0m\u001b[1;33m[\u001b[0m\u001b[1;36m4\u001b[0m\u001b[1;33m]\u001b[0m\u001b[1;33m,\u001b[0m \u001b[0mcfudge\u001b[0m \u001b[1;33m=\u001b[0m \u001b[0mpopt\u001b[0m\u001b[1;33m[\u001b[0m\u001b[1;36m5\u001b[0m\u001b[1;33m]\u001b[0m\u001b[1;33m)\u001b[0m\u001b[1;33m,\u001b[0m \u001b[0mlabel\u001b[0m \u001b[1;33m=\u001b[0m \u001b[1;34m'fit'\u001b[0m\u001b[1;33m,\u001b[0m   \u001b[0malpha\u001b[0m \u001b[1;33m=\u001b[0m \u001b[1;36m0.5\u001b[0m\u001b[1;33m)\u001b[0m\u001b[1;33m\u001b[0m\u001b[0m\n\u001b[0m\u001b[0;32m      2\u001b[0m \u001b[1;31m#plt.plot(x_values, generalizedgaussian(x_values, a=0*popt[0], b=3*popt[1], c=0*popt[2], d=0*popt[3], e=0*popt[4], cfudge = 0*popt[5]), label = 'fit',   alpha = 0.5)\u001b[0m\u001b[1;33m\u001b[0m\u001b[1;33m\u001b[0m\u001b[0m\n\u001b[0;32m      3\u001b[0m \u001b[1;33m\u001b[0m\u001b[0m\n\u001b[0;32m      4\u001b[0m \u001b[0mplt\u001b[0m\u001b[1;33m.\u001b[0m\u001b[0mplot\u001b[0m\u001b[1;33m(\u001b[0m\u001b[0mxdata\u001b[0m\u001b[1;33m,\u001b[0m \u001b[0mydata\u001b[0m\u001b[1;33m,\u001b[0m \u001b[0mlabel\u001b[0m \u001b[1;33m=\u001b[0m \u001b[1;34m'captured'\u001b[0m\u001b[1;33m)\u001b[0m\u001b[1;33m\u001b[0m\u001b[0m\n\u001b[0;32m      5\u001b[0m \u001b[0mplt\u001b[0m\u001b[1;33m.\u001b[0m\u001b[0mlegend\u001b[0m\u001b[1;33m(\u001b[0m\u001b[1;33m)\u001b[0m\u001b[1;33m\u001b[0m\u001b[0m\n",
      "\u001b[1;31mNameError\u001b[0m: name 'x_values' is not defined"
     ]
    }
   ],
   "source": [
    "plt.plot(x_values, generalizedgaussian(x_values, a=popt[0], b=popt[1], c=popt[2], d=popt[3], e=popt[4], cfudge = popt[5]), label = 'fit',   alpha = 0.5)\n",
    "#plt.plot(x_values, generalizedgaussian(x_values, a=0*popt[0], b=3*popt[1], c=0*popt[2], d=0*popt[3], e=0*popt[4], cfudge = 0*popt[5]), label = 'fit',   alpha = 0.5)\n",
    "\n",
    "plt.plot(xdata, ydata, label = 'captured')\n",
    "plt.legend()\n",
    "plt.show()"
   ]
  },
  {
   "cell_type": "markdown",
   "metadata": {},
   "source": [
    "# Curve Fitting for Ampuoles"
   ]
  },
  {
   "cell_type": "code",
   "execution_count": 40,
   "metadata": {},
   "outputs": [
    {
     "name": "stdout",
     "output_type": "stream",
     "text": [
      "[9.51747078e+03 9.62055100e+03 3.43080304e+03 9.36873876e+02\n",
      " 6.20709362e+03 8.80621505e-13]\n",
      "\n",
      "[1.70854696e+03 1.68356856e+03 8.78782721e+02 3.17678731e+01\n",
      " 3.92849987e+02 9.31383385e-10]\n"
     ]
    },
    {
     "data": {
      "image/png": "[encoded data removed]",
      "text/plain": [
       "<Figure size 432x288 with 1 Axes>"
      ]
     },
     "metadata": {},
     "output_type": "display_data"
    }
   ],
   "source": [
    "location= Heliumlocation\n",
    "\n",
    "x_values = np.linspace(2.75*10**(-7), 8*10**(-7), 1200)\n",
    "xdata = x_values\n",
    "\n",
    "\n",
    "y = extrainfo(mean_data(location))\n",
    "ydata = fullgaussian(x_values, y)\n",
    "\n",
    "func = generalizedgaussian\n",
    "p0 = (1000, 0, 0, 0, 0, 0)\n",
    "popt, pcov = curve_fit(func, xdata, ydata, p0 = p0, bounds = (0, [np.inf, np.inf, np.inf, np.inf, np.inf, 1*10**-8]))\n",
    "print(popt)\n",
    "print('')\n",
    "print(np.sqrt(np.diag(pcov)))\n",
    "\n",
    "\n",
    "plt.plot(x_values, generalizedgaussian(x_values, a=popt[0], b=popt[1], c=popt[2], d=popt[3], e=popt[4], cfudge = popt[5]), label = 'fit',   alpha = 0.5)\n",
    "plt.plot(xdata, ydata, label = 'captured')\n",
    "plt.legend()\n",
    "plt.show()"
   ]
  },
  {
   "cell_type": "code",
   "execution_count": 41,
   "metadata": {},
   "outputs": [
    {
     "name": "stdout",
     "output_type": "stream",
     "text": [
      "Percentage composition of Helium ampule\n",
      "\n",
      "Helium:0.3203155961365906 ± 0.05750206658158246\n",
      "Neon:0.3237848161778039 ± 0.05666140492635523\n",
      "Argon:0.11546552080909171 ± 0.02957590492196054\n",
      "Krypton:0.031530993983863574 ± 0.001069164848952176\n",
      "Xenon:0.20890307289265017 ± 0.01322157751177589\n",
      "\n",
      "fudge factor:8.806215051866413e-13 ± 9.313833846226671e-10\n",
      "\n",
      "\n",
      "Percentage composition of Neon ampule\n",
      "\n",
      "Helium:0.11076759637812718 ± 0.003549448933722303\n",
      "Neon:0.3540780339835478 ± 0.0010398472747462644\n",
      "Argon:0.019884654021751696 ± 0.020870773735199986\n",
      "Krypton:0.029002724100378473 ± 9.383797145973509e-05\n",
      "Xenon:0.486266991516195 ± 0.0005584439444514455\n",
      "\n",
      "fudge factor:6.3120363227981355e-09 ± 5.215841015307234e-10\n",
      "\n",
      "\n",
      "Percentage composition of Argon ampule\n",
      "\n",
      "Helium:0.13469626436253887 ± 0.08620394109065785\n",
      "Neon:0.3050219043311085 ± 0.09373764933342801\n",
      "Argon:0.2173761463928851 ± 0.05506745002269047\n",
      "Krypton:0.04497773016863281 ± 0.0017907152907276874\n",
      "Xenon:0.29792795474483463 ± 0.023176129033348244\n",
      "\n",
      "fudge factor:6.6403069847307725e-09 ± 1.009269650328667e-09\n",
      "\n",
      "\n",
      "Percentage composition of Krypton ampule\n",
      "\n",
      "Helium:0.0957489979586491 ± 0.0015678586833525008\n",
      "Neon:0.13120143810918747 ± 0.0006036501970985813\n",
      "Argon:0.018078812558323543 ± 0.008879335295810743\n",
      "Krypton:0.16053833216025926 ± 3.603911300544054e-05\n",
      "Xenon:0.5944324192135806 ± 0.00017098427991802282\n",
      "\n",
      "fudge factor:3.6802261770909263e-09 ± 3.26317950762532e-10\n",
      "\n",
      "\n",
      "Percentage composition of Xenon ampule\n",
      "\n",
      "Helium:0.030851962652001755 ± 0.01727328549427226\n",
      "Neon:3.222768407418658e-05 ± 0.02157091686468017\n",
      "Argon:0.0037997898875825214 ± 0.009897770914335106\n",
      "Krypton:0.3724828723453412 ± 0.0006777162451868433\n",
      "Xenon:0.5928331474310002 ± 0.04898332873867347\n",
      "\n",
      "fudge factor:3.998872468874713e-09 ± 4.919157930365252e-10\n",
      "\n"
     ]
    }
   ],
   "source": [
    "x_values = np.linspace(2.75*10**(-7), 8*10**(-7), 1200) #range overwhich fit takes place\n",
    "xdata = x_values\n",
    "func = generalizedgaussian\n",
    "\n",
    "location= Heliumlocation\n",
    "y = extrainfo(mean_data(location))\n",
    "ydata = fullgaussian(x_values, y)\n",
    "\n",
    "p0 = (1000, 0, 0, 0, 0, 0) #initial guesses\n",
    "popt, pcov = curve_fit(func, xdata, ydata, p0 = p0, bounds = (0, [np.inf, np.inf, np.inf, np.inf, np.inf, 1*10**-8]))\n",
    "#function that fits the curve set bounds to stop the fudge factor frombeing too large\n",
    "A = np.sum(popt) - popt[5]\n",
    "Npopt=popt*1/A #normalises the results so their total is equal to one\n",
    "error=np.sqrt(np.diag(pcov)) #calculates the errors on the fit\n",
    "Nerror=error*1/A\n",
    "print('Percentage composition of Helium ampule')\n",
    "print('')\n",
    "print(f'Helium:{Npopt[0]} ± {Nerror[0]}')\n",
    "print(f'Neon:{Npopt[1]} ± {Nerror[1]}')\n",
    "print(f'Argon:{Npopt[2]} ± {Nerror[2]}')\n",
    "print(f'Krypton:{Npopt[3]} ± {Nerror[3]}')\n",
    "print(f'Xenon:{Npopt[4]} ± {Nerror[4]}')\n",
    "print('')\n",
    "print(f'fudge factor:{popt[5]} ± {error[5]}')\n",
    "print('')\n",
    "print('')\n",
    "#returns the results in a more athetically pleasing way\n",
    "\n",
    "location= Neonlocation\n",
    "y = extrainfo(mean_data(location))\n",
    "ydata = fullgaussian(x_values, y)\n",
    "p0 = (0, 1000, 0, 0, 0, 0)\n",
    "popt, pcov = curve_fit(func, xdata, ydata, p0 = p0, bounds = (0, [np.inf, np.inf, np.inf, np.inf, np.inf, 1*10**-8]))\n",
    "A = np.sum(popt) - popt[5]\n",
    "Npopt=popt*1/A\n",
    "error=np.sqrt(np.diag(pcov))\n",
    "Nerror=error*1/A\n",
    "print('Percentage composition of Neon ampule')\n",
    "print('')\n",
    "print(f'Helium:{Npopt[0]} ± {Nerror[0]}')\n",
    "print(f'Neon:{Npopt[1]} ± {Nerror[1]}')\n",
    "print(f'Argon:{Npopt[2]} ± {Nerror[2]}')\n",
    "print(f'Krypton:{Npopt[3]} ± {Nerror[3]}')\n",
    "print(f'Xenon:{Npopt[4]} ± {Nerror[4]}')\n",
    "print('')\n",
    "print(f'fudge factor:{popt[5]} ± {error[5]}')\n",
    "print('')\n",
    "print('')\n",
    "\n",
    "location= Argonlocation\n",
    "y = extrainfo(mean_data(location))\n",
    "ydata = fullgaussian(x_values, y)\n",
    "p0 = (0, 0, 1000, 0, 0, 0)\n",
    "popt, pcov = curve_fit(func, xdata, ydata, p0 = p0, bounds = (0, [np.inf, np.inf, np.inf, np.inf, np.inf, 1*10**-8]))\n",
    "A = np.sum(popt) - popt[5]\n",
    "Npopt=popt*1/A\n",
    "error=np.sqrt(np.diag(pcov))\n",
    "Nerror=error*1/A\n",
    "print('Percentage composition of Argon ampule')\n",
    "print('')\n",
    "print(f'Helium:{Npopt[0]} ± {Nerror[0]}')\n",
    "print(f'Neon:{Npopt[1]} ± {Nerror[1]}')\n",
    "print(f'Argon:{Npopt[2]} ± {Nerror[2]}')\n",
    "print(f'Krypton:{Npopt[3]} ± {Nerror[3]}')\n",
    "print(f'Xenon:{Npopt[4]} ± {Nerror[4]}')\n",
    "print('')\n",
    "print(f'fudge factor:{popt[5]} ± {error[5]}')\n",
    "print('')\n",
    "print('')\n",
    "\n",
    "location= Kryptonlocation\n",
    "y = extrainfo(mean_data(location))\n",
    "ydata = fullgaussian(x_values, y)\n",
    "p0 = (0, 0, 0, 1000, 0, 0)\n",
    "popt, pcov = curve_fit(func, xdata, ydata, p0 = p0, bounds = (0, [np.inf, np.inf, np.inf, np.inf, np.inf, 1*10**-8]))\n",
    "A = np.sum(popt) - popt[5]\n",
    "Npopt=popt*1/A\n",
    "error=np.sqrt(np.diag(pcov))\n",
    "Nerror=error*1/A\n",
    "print('Percentage composition of Krypton ampule')\n",
    "print('')\n",
    "print(f'Helium:{Npopt[0]} ± {Nerror[0]}')\n",
    "print(f'Neon:{Npopt[1]} ± {Nerror[1]}')\n",
    "print(f'Argon:{Npopt[2]} ± {Nerror[2]}')\n",
    "print(f'Krypton:{Npopt[3]} ± {Nerror[3]}')\n",
    "print(f'Xenon:{Npopt[4]} ± {Nerror[4]}')\n",
    "print('')\n",
    "print(f'fudge factor:{popt[5]} ± {error[5]}')\n",
    "print('')\n",
    "print('')\n",
    "\n",
    "location= Xenonlocation\n",
    "y = extrainfo(mean_data(location))\n",
    "ydata = fullgaussian(x_values, y)\n",
    "p0 = (0, 0, 0, 0, 1000, 0)\n",
    "popt, pcov = curve_fit(func, xdata, ydata, p0 = p0, bounds = (0, [np.inf, np.inf, np.inf, np.inf, np.inf, 1*10**-8]))\n",
    "A = np.sum(popt) - popt[5]\n",
    "Npopt=popt*1/A\n",
    "error=np.sqrt(np.diag(pcov))\n",
    "Nerror=error*1/A\n",
    "print('Percentage composition of Xenon ampule')\n",
    "print('')\n",
    "print(f'Helium:{Npopt[0]} ± {Nerror[0]}')\n",
    "print(f'Neon:{Npopt[1]} ± {Nerror[1]}')\n",
    "print(f'Argon:{Npopt[2]} ± {Nerror[2]}')\n",
    "print(f'Krypton:{Npopt[3]} ± {Nerror[3]}')\n",
    "print(f'Xenon:{Npopt[4]} ± {Nerror[4]}')\n",
    "print('')\n",
    "print(f'fudge factor:{popt[5]} ± {error[5]}')\n",
    "print('')"
   ]
  },
  {
   "cell_type": "markdown",
   "metadata": {},
   "source": [
    "# Appendix : Prints"
   ]
  },
  {
   "cell_type": "code",
   "execution_count": 42,
   "metadata": {},
   "outputs": [
    {
     "data": {
      "image/png": "[encoded data removed]",
      "text/plain": [
       "<Figure size 432x288 with 1 Axes>"
      ]
     },
     "metadata": {},
     "output_type": "display_data"
    }
   ],
   "source": [
    "singleanalysis(Heliumlocation, multiple = 15, a = 'He')"
   ]
  },
  {
   "cell_type": "code",
   "execution_count": 43,
   "metadata": {},
   "outputs": [
    {
     "data": {
      "image/png": "[encoded data removed]",
      "text/plain": [
       "<Figure size 432x288 with 1 Axes>"
      ]
     },
     "metadata": {},
     "output_type": "display_data"
    }
   ],
   "source": [
    "singleanalysis(Neonlocation, multiple = 60, a = 'Ne')"
   ]
  },
  {
   "cell_type": "code",
   "execution_count": 44,
   "metadata": {},
   "outputs": [
    {
     "data": {
      "image/png": "[encoded data removed]",
      "text/plain": [
       "<Figure size 432x288 with 1 Axes>"
      ]
     },
     "metadata": {},
     "output_type": "display_data"
    }
   ],
   "source": [
    "singleanalysis(Argonlocation, multiple = 7.5, a = 'Ar')"
   ]
  },
  {
   "cell_type": "code",
   "execution_count": 45,
   "metadata": {},
   "outputs": [
    {
     "data": {
      "image/png": "[encoded data removed]",
      "text/plain": [
       "<Figure size 432x288 with 1 Axes>"
      ]
     },
     "metadata": {},
     "output_type": "display_data"
    }
   ],
   "source": [
    "singleanalysis(Kryptonlocation, multiple = 5, a = 'Kr')"
   ]
  },
  {
   "cell_type": "code",
   "execution_count": 46,
   "metadata": {},
   "outputs": [
    {
     "data": {
      "image/png": "[encoded data removed]",
      "text/plain": [
       "<Figure size 432x288 with 1 Axes>"
      ]
     },
     "metadata": {},
     "output_type": "display_data"
    }
   ],
   "source": [
    "singleanalysis(Xenonlocation, multiple = 5, a = 'Xe')"
   ]
  },
  {
   "cell_type": "code",
   "execution_count": 47,
   "metadata": {},
   "outputs": [
    {
     "ename": "NameError",
     "evalue": "name 'LampNeonlocation' is not defined",
     "output_type": "error",
     "traceback": [
      "\u001b[1;31m---------------------------------------------------------------------------\u001b[0m",
      "\u001b[1;31mNameError\u001b[0m                                 Traceback (most recent call last)",
      "\u001b[1;32m<ipython-input-47-d78f0d453e95>\u001b[0m in \u001b[0;36m<module>\u001b[1;34m()\u001b[0m\n\u001b[1;32m----> 1\u001b[1;33m \u001b[0msingleanalysis\u001b[0m\u001b[1;33m(\u001b[0m\u001b[0mLampNeonlocation\u001b[0m\u001b[1;33m,\u001b[0m \u001b[0mmultiple\u001b[0m \u001b[1;33m=\u001b[0m \u001b[1;36m14\u001b[0m\u001b[1;33m,\u001b[0m \u001b[0ma\u001b[0m \u001b[1;33m=\u001b[0m \u001b[1;34m'Ne'\u001b[0m\u001b[1;33m)\u001b[0m\u001b[1;33m\u001b[0m\u001b[0m\n\u001b[0m",
      "\u001b[1;31mNameError\u001b[0m: name 'LampNeonlocation' is not defined"
     ]
    }
   ],
   "source": [
    "singleanalysis(LampNeonlocation, multiple = 14, a = 'Ne')"
   ]
  },
  {
   "cell_type": "markdown",
   "metadata": {},
   "source": [
    "### plotting our neon ampuole with the neon lamp "
   ]
  },
  {
   "cell_type": "code",
   "execution_count": null,
   "metadata": {},
   "outputs": [],
   "source": [
    "data1 = mean_data(Neonlocation)\n",
    "data2 = mean_data(LampNeonlocation)\n",
    "snipmean1 = data1[240:360]\n",
    "snipmean2 = data2[240:360]\n",
    "numberofx = snipmean1.shape[1]\n",
    "xt = np.linspace(1, numberofx, numberofx)\n",
    "A = 6.640*10**(-10) #wavelength calibration\n",
    "B = 2.736*10**(-7)  #wavelength calibration\n",
    "x = A*xt + B        #wavelength calibration\n",
    "y1 = np.mean(snipmean1, axis = 0)\n",
    "y2 = np.mean(snipmean2, axis = 0)\n"
   ]
  },
  {
   "cell_type": "code",
   "execution_count": null,
   "metadata": {},
   "outputs": [],
   "source": [
    "plt.plot(x, y1, label = 'Neon Ampuole')\n",
    "plt.plot(x, y2, label = 'Neon Lamp', alpha = 0.5)\n",
    "plt.xlabel(r'Wavelength (m)')\n",
    "plt.ylabel(r'Intensity(arbitrary units)')\n",
    "plt.legend()\n",
    "plt.show()"
   ]
  },
  {
   "cell_type": "markdown",
   "metadata": {
    "collapsed": true
   },
   "source": [
    "# Anything below this is scrap"
   ]
  },
  {
   "cell_type": "code",
   "execution_count": null,
   "metadata": {},
   "outputs": [],
   "source": [
    "print(0/0)"
   ]
  },
  {
   "cell_type": "code",
   "execution_count": null,
   "metadata": {},
   "outputs": [],
   "source": [
    "print(peaks_datawv(mean_data(Heliumlocation)))"
   ]
  },
  {
   "cell_type": "code",
   "execution_count": null,
   "metadata": {},
   "outputs": [],
   "source": [
    "plot_datawv(mean_data(LampXenonlocation))"
   ]
  },
  {
   "cell_type": "code",
   "execution_count": null,
   "metadata": {},
   "outputs": [],
   "source": [
    "plot_datapx(mean_data(LampNeonlocation))"
   ]
  },
  {
   "cell_type": "markdown",
   "metadata": {},
   "source": [
    "# Scrap related to cutting off the low bits"
   ]
  },
  {
   "cell_type": "code",
   "execution_count": null,
   "metadata": {},
   "outputs": [],
   "source": [
    "def testmean_data(location):\n",
    "    '''Requires the location as a folder for where all the data is kept, and all the data should be a fit file.\n",
    "    Returns a 2d array, of the average values from all files'''\n",
    "    tracks = []\n",
    "    for i in os.listdir(location):\n",
    "        if i.endswith(\".fit\"):\n",
    "            filename =location + '/' + str(i)\n",
    "            image_file = get_pkg_data_filename(filename)\n",
    "            image_data = fits.getdata(image_file, ext=0) #uses astropy module to convert the fit file into an array\n",
    "            tracks.append(image_data)\n",
    "    mean = np.mean(tracks, axis = 0)\n",
    "    return mean-mean[300,0]"
   ]
  },
  {
   "cell_type": "code",
   "execution_count": null,
   "metadata": {},
   "outputs": [],
   "source": [
    "a = testmean_data(Heliumlocation)\n",
    "print(a)"
   ]
  },
  {
   "cell_type": "code",
   "execution_count": null,
   "metadata": {},
   "outputs": [],
   "source": [
    "def testplot_datapx(data, a=240, b=360):\n",
    "    '''plots the data, intensity vs pixel as well as the image itself'''\n",
    "    data = data\n",
    "    snipmean = data[a:b]   #snipmean isolates a rectangular section of the image\n",
    "    numberofx = snipmean.shape[1]\n",
    "    x = np.linspace(1, numberofx, numberofx)\n",
    "    y = np.mean(snipmean, axis = 0)\n",
    "    plt.title('Plot of superMean Intensity Vs Pixel Number') #you should change this with the title\n",
    "    plt.xlabel(r'Wavelength (m)')\n",
    "    plt.ylabel(r'Intensity(arbitrary units)')\n",
    "    plt.plot(x, y)\n",
    "    plt.show()\n",
    "    plt.figure()\n",
    "    plt.imshow(data, cmap='gray')\n",
    "    plt.colorbar()"
   ]
  },
  {
   "cell_type": "code",
   "execution_count": null,
   "metadata": {},
   "outputs": [],
   "source": [
    "testplot_datapx(testmean_data(Neonlocation))"
   ]
  },
  {
   "cell_type": "code",
   "execution_count": null,
   "metadata": {},
   "outputs": [],
   "source": []
  },
  {
   "cell_type": "code",
   "execution_count": null,
   "metadata": {},
   "outputs": [],
   "source": []
  },
  {
   "cell_type": "code",
   "execution_count": null,
   "metadata": {},
   "outputs": [],
   "source": []
  }
 ],
 "metadata": {
  "kernelspec": {
   "display_name": "Python 3",
   "language": "python",
   "name": "python3"
  },
  "language_info": {
   "codemirror_mode": {
    "name": "ipython",
    "version": 3
   },
   "file_extension": ".py",
   "mimetype": "text/x-python",
   "name": "python",
   "nbconvert_exporter": "python",
   "pygments_lexer": "ipython3",
   "version": "3.6.5"
  }
 },
 "nbformat": 4,
 "nbformat_minor": 2
}
