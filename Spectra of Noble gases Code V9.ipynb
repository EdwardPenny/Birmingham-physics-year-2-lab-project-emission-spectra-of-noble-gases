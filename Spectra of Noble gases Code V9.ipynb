{
 "cells": [
  {
   "cell_type": "markdown",
   "metadata": {},
   "source": [
    "# The Analaysis of Spectra of Noble Gases\n",
    "\n",
    "### By Emir Muhammad and Edward Penny "
   ]
  },
  {
   "cell_type": "markdown",
   "metadata": {},
   "source": [
    "## 1. Initializing the Notebook\n",
    "\n"
   ]
  },
  {
   "cell_type": "markdown",
   "metadata": {},
   "source": [
    "### Importing Modules\n",
    "The notebook requires various modules and tools from outside sources. Most of these has been encountered before, such as numpy, scipy, and matplotlib, however others are new such as astropy and jupyter widgets. The code below imports all necessary modules for the notebook to work."
   ]
  },
  {
   "cell_type": "code",
   "execution_count": 1,
   "metadata": {},
   "outputs": [],
   "source": [
    "%matplotlib inline\n",
    "import os\n",
    "import numpy as np\n",
    "import matplotlib.pyplot as plt\n",
    "from astropy.visualization import astropy_mpl_style\n",
    "plt.style.use(astropy_mpl_style)\n",
    "from astropy.utils.data import get_pkg_data_filename\n",
    "from astropy.io import fits\n",
    "\n",
    "from scipy.signal import find_peaks\n",
    "from scipy.signal import peak_prominences\n",
    "from scipy.signal import peak_widths\n",
    "from scipy.optimize import curve_fit\n",
    "\n",
    "from __future__ import print_function\n",
    "from ipywidgets import interact, interactive, fixed, interact_manual, FloatSlider\n",
    "import ipywidgets as widgets"
   ]
  },
  {
   "cell_type": "markdown",
   "metadata": {},
   "source": [
    "### Importing all the necessary strings for importing the data\n",
    "The code below works only for Emir and Edward on their machines, where they have placed the experimental data as well as the database in specified locations. This bit of code allows the authors to collaborate by switching between different locations quickly. \n",
    "\n",
    "The code itself is written such that the functions themselves do not depend on any specific location, so it should work on any machine so long as the user properly defines the paths of the files and databases. However, please write down 'user' in the name_of_owner field for it to pass through."
   ]
  },
  {
   "cell_type": "code",
   "execution_count": 14,
   "metadata": {},
   "outputs": [
    {
     "name": "stdout",
     "output_type": "stream",
     "text": [
      "This code is too important for me to allow you to jeopardize it\n"
     ]
    }
   ],
   "source": [
    "name_of_owner = 'Edward'\n",
    "\n",
    "if name_of_owner == 'Emir':\n",
    "    Xenonlocation = '/Users/emirmuhammad/Desktop/Ed-Em-Y2Spec/Xenon Data/' \n",
    "    Kryptonlocation = '/Users/emirmuhammad/Desktop/Ed-Em-Y2Spec/Krypton Data/' \n",
    "    Argonlocation = '/Users/emirmuhammad/Desktop/Ed-Em-Y2Spec/Argon Data/'\n",
    "    Neonlocation = '/Users/emirmuhammad/Desktop/Ed-Em-Y2Spec/Neon Data/'\n",
    "    Heliumlocation = '/Users/emirmuhammad/Desktop/Ed-Em-Y2Spec/Helium 500/'\n",
    "    Cadmiumlocation = '/Users/emirmuhammad/Desktop/Ed-Em-Y2Spec/Cadmium Calibration Data/'\n",
    "    LampNeonlocation = '/Users/emirmuhammad/Desktop/Ed-Em-Y2Spec/Neon discharge lamp data/'\n",
    "    LampXenonlocation = '/Users/emirmuhammad/Desktop/Ed-Em-Y2Spec/Extra Xenon data/'\n",
    "\n",
    "    heliumtext = '/Users/emirmuhammad/Desktop/Ed-Em-Y2Spec/Atomic Data/helium.txt'\n",
    "    neontext = '/Users/emirmuhammad/Desktop/Ed-Em-Y2Spec/Atomic Data/fakeneon.txt'   #YO THIS IS FAKE NEON\n",
    "    argontext = '/Users/emirmuhammad/Desktop/Ed-Em-Y2Spec/Atomic Data/fakeargon.txt' #YO THIS THING IS FAKE ARGON\n",
    "    kryptontext = '/Users/emirmuhammad/Desktop/Ed-Em-Y2Spec/Atomic Data/krypton.txt'\n",
    "    xenontext = '/Users/emirmuhammad/Desktop/Ed-Em-Y2Spec/Atomic Data/xenon.txt'\n",
    "    \n",
    "    #hydrogentext = '/Users/emirmuhammad/Desktop/Ed-Em-Y2Spec/Atomic Data/hydrogen.txt'\n",
    "    #carbontext = '/Users/emirmuhammad/Desktop/Ed-Em-Y2Spec/Atomic Data/carbon.txt'\n",
    "    #nitrogentext = '/Users/emirmuhammad/Desktop/Ed-Em-Y2Spec/Atomic Data/nitrogen.txt'\n",
    "    #oxygentext = '/Users/emirmuhammad/Desktop/Ed-Em-Y2Spec/Atomic Data/oxygen.txt'\n",
    "    \n",
    "    \n",
    "    \n",
    "    \n",
    "    print('You are a bold one.')\n",
    "elif name_of_owner == 'Edward': \n",
    "    Xenonlocation = '/Users/Edward/Documents/year 2/lab project/Ed-Em-Y2Spec/Xenon data/'  \n",
    "    Kryptonlocation = '/Users/Edward/Documents/year 2/lab project/Ed-Em-Y2Spec/Krypton data/'  \n",
    "    Argonlocation = '/Users/Edward/Documents/year 2/lab project/Ed-Em-Y2Spec/Argon Data/'\n",
    "    Neonlocation = '/Users/Edward/Documents/year 2/lab project/Ed-Em-Y2Spec/Neon Data/'\n",
    "    Heliumlocation = '/Users/Edward/Documents/year 2/lab project/Ed-Em-Y2Spec/Helium Data/'\n",
    "    Cadmiumlocation = '/Users/Edward/Documents/year 2/lab project/Ed-Em-Y2Spec/Cadmium Calibration Data/'\n",
    "\n",
    "    heliumtext = '/Users/Edward/Documents/year 2/lab project/Atomic Data/helium.txt'\n",
    "    neontext = '/Users/Edward/Documents/year 2/lab project/Atomic Data/neon.txt'\n",
    "    argontext = '/Users/Edward/Documents/year 2/lab project/Atomic Data/argon.txt'\n",
    "    kryptontext = '/Users/Edward/Documents/year 2/lab project/Atomic Data/krypton.txt'\n",
    "    xenontext = '/Users/Edward/Documents/year 2/lab project/Atomic Data/xenon.txt'\n",
    "    \n",
    "    print('This code is too important for me to allow you to jeopardize it')\n",
    "\n",
    "elif name_of_owner == 'user':\n",
    "    pass\n",
    "\n",
    "else:\n",
    "    print('please add in the correct name, else the entire code will not run properly.')\n",
    "    print(0/0)"
   ]
  },
  {
   "cell_type": "markdown",
   "metadata": {},
   "source": [
    "## 2. Defining functions to import FITS files and plotting"
   ]
  },
  {
   "cell_type": "markdown",
   "metadata": {},
   "source": [
    "This section corresponds to the early work that was done, where figuring out how to import the data from the spectroscope was the goal. Each function has a different purporse as seen in their docstrings."
   ]
  },
  {
   "cell_type": "code",
   "execution_count": 3,
   "metadata": {},
   "outputs": [],
   "source": [
    "def mean_data(location):\n",
    "    '''Returns the average 'FITS image' from a folder of FITS files. \n",
    "  \n",
    "    Requires all the data to be kept in a single folder. \n",
    "  \n",
    "    Parameters: \n",
    "    location(str): Path to folder containing FITS data.\n",
    "  \n",
    "    Returns: \n",
    "    2d numpy array representing the average.\n",
    "    '''\n",
    "    tracks = []\n",
    "    for i in os.listdir(location):\n",
    "        if i.endswith(\".fit\"):\n",
    "            filename =location + '/' + str(i)\n",
    "            image_file = get_pkg_data_filename(filename)\n",
    "            image_data = fits.getdata(image_file, ext=0) #uses astropy module to convert the fit file into an array\n",
    "            tracks.append(image_data)\n",
    "    mean = np.mean(tracks, axis = 0)\n",
    "    return mean"
   ]
  },
  {
   "cell_type": "code",
   "execution_count": 4,
   "metadata": {},
   "outputs": [],
   "source": [
    "def plot_datapx(data, a=240, b=360):\n",
    "    ''' Plots a 2d-array as intensity vs pixel. \n",
    "  \n",
    "    Parameters: \n",
    "    data(2d-array): The data that is plotted. Represents a single FITS file\n",
    "    a(int): lower bound for horizontal slicing\n",
    "    b(int): upper bound for horizontal splicing\n",
    "    \n",
    "    Returns: \n",
    "    plot1: Plot of Intensity vs Pixel Number\n",
    "    plot2: Visualization of FITS file\n",
    "    '''\n",
    "    data = data\n",
    "    snipmean = data[a:b]   \n",
    "    numberofx = snipmean.shape[1]\n",
    "    x = np.linspace(1, numberofx, numberofx)\n",
    "    y = np.mean(snipmean, axis = 0)\n",
    "    plt.title('Plot of superMean Intensity Vs Pixel Number')\n",
    "    plt.xlabel(r'Wavelength (m)')\n",
    "    plt.ylabel(r'Intensity(arbitrary units)')\n",
    "    plt.plot(x, y)\n",
    "    plt.show()\n",
    "    plt.figure()\n",
    "    plt.imshow(data, cmap='gray')\n",
    "    plt.colorbar()"
   ]
  },
  {
   "cell_type": "code",
   "execution_count": 5,
   "metadata": {},
   "outputs": [],
   "source": [
    "def plot_datawv(data, a=240, b=360, MINspacebetweenpeaks = 10, PROMCUTOFF = 250, Element = None):\n",
    "    ''' Plots a 2d-array as intensity vs wavelength along with found peaks. \n",
    "  \n",
    "    Conversion of pixel number to wavelength is done in labs using a Cadmium Calibration Lamp. \n",
    "    Wavelength calibration is hardcoded into this function in the variables A and B. \n",
    "  \n",
    "  \n",
    "    Parameters: \n",
    "    data(2d-array): The data to be plotted. Represents a single FITS file\n",
    "    a(str): Lower bound for horizontal splicing\n",
    "    b(str): Upper bound for horizontal splicing\n",
    "    MINspacebetweenpeaks\n",
    "    PROMCUTOFF\n",
    "    Element(str) = Optional variable for labling the figure\n",
    "    \n",
    "    Returns: \n",
    "    1 Plot of the Intensity vs Wavelength of data, along with vertical lines representing peaks found by the code.\n",
    "    '''\n",
    "    data = data\n",
    "    snipmean = data[a:b]\n",
    "    numberofx = snipmean.shape[1]\n",
    "    xt = np.linspace(1, numberofx, numberofx)\n",
    "    A = 6.640*10**(-10) #wavelength calibration\n",
    "    B = 2.736*10**(-7)  #wavelength calibration\n",
    "    x = A*xt + B        #wavelength calibration\n",
    "    y = np.mean(snipmean, axis = 0)\n",
    "    \n",
    "    if Element == None:  #title plotting\n",
    "        plt.title(f'Plot of Mean Intensity Vs Wavelength')\n",
    "    else:\n",
    "        plt.title(f'Plot of Mean Intensity Vs Wavelength {Element}')\n",
    "    plt.xlabel(r'Wavelength (m)')\n",
    "    plt.ylabel(r'Intensity(arbitrary units)')\n",
    "    \n",
    "    peaks,_ = find_peaks(y, distance = MINspacebetweenpeaks)\n",
    "    proms = peak_prominences(y, peaks)[0]\n",
    "    proms[proms < PROMCUTOFF] = 0 # making an array of 1's and 0's \n",
    "    promsford = list(proms)\n",
    "    L0 = promsford.count(0)\n",
    "    DC = 0\n",
    "    while DC<L0:\n",
    "        DC +=1\n",
    "        promsford.remove(0) # finding prominences for the dictionary\n",
    "    proms[proms > PROMCUTOFF] = 1 # making an array of 1's and 0's\n",
    "    proms[proms == PROMCUTOFF] = 1 \n",
    "    keypeaks = proms*peaks # setting all peaks with low prominences to 0\n",
    "    Lkeypeaks = list(keypeaks) # have to make it into a list to use count and remove\n",
    "    L1= Lkeypeaks.count(0) # finding the number of 0's for the loop\n",
    "    RC= 0 \n",
    "    while RC<L1:\n",
    "        RC +=1\n",
    "        Lkeypeaks.remove(0) # remove only removes the first 0 so have to loop it through\n",
    "    keypeaks = np.array(Lkeypeaks) # convert back to an array for the graphing\n",
    "    Wavelengthsford= A*keypeaks + B\n",
    "    Wavelengthsford = list(Wavelengthsford) #getting wavelengths of peaks for the dictionary\n",
    "    for n in np.nditer(keypeaks):\n",
    "        plt.axvline(x= A*n+ B,linestyle=':', color = 'r', label='f0')\n",
    "    plt.plot(x, y)\n",
    "    Peaksdict = {}\n",
    "    for i in range(len(promsford)): #assembling the peak dictionary\n",
    "        Peaksdict[Wavelengthsford[i]] = promsford[i]\n",
    "    plt.show()\n",
    "    return None"
   ]
  },
  {
   "cell_type": "code",
   "execution_count": 6,
   "metadata": {},
   "outputs": [],
   "source": [
    "def peaks_datawv(data, a=210, b=410, MINspacebetweenpeaks = 10, PROMCUTOFF = 250):\n",
    "    '''Returns a dictionary of Peaks and Intensity for each found peak. \n",
    "  \n",
    "    Conversion of pixel number to wavelength is done in labs using a Cadmium Calibration Lamp. \n",
    "    Wavelength calibration is hardcoded into this function in the variables A and B. \n",
    "    \n",
    "  \n",
    "    Parameters: \n",
    "    data(2d-array): The data to be plotted. Represents a single FITS file\n",
    "    a(str): Lower bound for horizontal splicing\n",
    "    b(str): Upper bound for horizontal splicing\n",
    "    MINspacebetweenpeaks\n",
    "    PROMCUTOFF\n",
    "    \n",
    "    Returns: \n",
    "    Dictionary = {Wavelength of peak: Intensity}\n",
    "    '''\n",
    "    data = data\n",
    "    snipmean = data[a:b]\n",
    "    numberofx = snipmean.shape[1]\n",
    "    xt = np.linspace(1, numberofx, numberofx)\n",
    "    A = 6.640*10**(-10) #calibration from pixels to wavelengths\n",
    "    B = 2.736*10**(-7)\n",
    "    x = A*xt + B\n",
    "    y = np.mean(snipmean, axis = 0)\n",
    "    peaks,_ = find_peaks(y, distance = MINspacebetweenpeaks)\n",
    "    proms = peak_prominences(y, peaks)[0]\n",
    "    proms[proms < PROMCUTOFF] = 0 # making an array of 1's and 0's \n",
    "    promsford = list(proms)\n",
    "    L0 = promsford.count(0)\n",
    "    DC = 0\n",
    "    while DC<L0:\n",
    "        DC +=1\n",
    "        promsford.remove(0) # finding prominences for the dictionary\n",
    "    proms[proms > PROMCUTOFF] = 1 # making an array of 1's and 0's \n",
    "    keypeaks = proms*peaks # setting all peaks with low prominences to 0\n",
    "    Lkeypeaks = list(keypeaks) # have to make it into a list to use count and remove\n",
    "    L1= Lkeypeaks.count(0) # finding the number of 0's for the loop\n",
    "    RC= 0 \n",
    "    while RC<L1:\n",
    "        RC +=1\n",
    "        Lkeypeaks.remove(0) # remove only removes the first 0 so have to loop it through\n",
    "    keypeaks = np.array(Lkeypeaks) # convert back to an array for the graphing\n",
    "    Wavelengthsford= A*keypeaks + B\n",
    "    Wavelengthsford = list(Wavelengthsford) #getting wavelengths of peaks for the dictionary\n",
    "    Peaksdict = {}\n",
    "    for i in range(len(promsford)): #assembling the peak dictionary\n",
    "        Peaksdict[Wavelengthsford[i]] = promsford[i]\n",
    "    return Peaksdict"
   ]
  },
  {
   "cell_type": "code",
   "execution_count": 7,
   "metadata": {},
   "outputs": [],
   "source": [
    "def extrainfo(data, a=240, b=360, MINspacebetweenpeaks = 10, PROMCUTOFF = 250):\n",
    "    '''Returns a list of tuples used for Peak Matching and Gaussian conversion\n",
    "  \n",
    "    Conversion of pixel number to wavelength is done in labs using a Cadmium Calibration Lamp. \n",
    "    Wavelength calibration is hardcoded into this function in the variables A and B. \n",
    "    \n",
    "    \n",
    "    Parameters: \n",
    "    data(2d-array): The data to be plotted. Represents a single FITS file\n",
    "    a(str): Lower bound for horizontal splicing\n",
    "    b(str): Upper bound for horizontal splicing\n",
    "    MINspacebetweenpeaks\n",
    "    PROMCUTOFF\n",
    "    \n",
    "    Returns: \n",
    "    List of Tuples: each tuple of the format (wavelength, width, intensity) for each peak\n",
    "    '''\n",
    "    data = data\n",
    "    snipmean = data[a:b]\n",
    "    numberofx = snipmean.shape[1]\n",
    "    xt = np.linspace(1, numberofx, numberofx)\n",
    "    A = 6.662*10**(-10)\n",
    "    B = 2.730*10**(-7)\n",
    "    x = A*xt + B\n",
    "    y = np.mean(snipmean, axis = 0)\n",
    "    peaks,_ = find_peaks(y, distance = MINspacebetweenpeaks)\n",
    "    proms = peak_prominences(y, peaks)[0]\n",
    "    proms[proms < PROMCUTOFF] = 0 # making an array of 1's and 0's \n",
    "    promsford = list(proms)\n",
    "    L0 = promsford.count(0)\n",
    "    DC = 0\n",
    "    while DC<L0:\n",
    "        DC +=1\n",
    "        promsford.remove(0) # finding prominences for the dictionary\n",
    "    proms[proms > PROMCUTOFF] = 1 # making an array of 1's and 0's \n",
    "    keypeaks = proms*peaks # setting all peaks with low prominences to 0\n",
    "    Lkeypeaks = list(keypeaks) # have to make it into a list to use count and remove\n",
    "    L1= Lkeypeaks.count(0) # finding the number of 0's for the loop\n",
    "    RC= 0 \n",
    "    while RC<L1:\n",
    "        RC +=1\n",
    "        Lkeypeaks.remove(0) # remove only removes the first 0 so have to loop it through\n",
    "    keypeaks = np.array(Lkeypeaks) # convert back to an array for the graphing\n",
    "    Wavelengthsford= A*keypeaks + B\n",
    "    Wavelengthsford = list(Wavelengthsford) #getting wavelengths of peaks for the dictionary\n",
    "    Peaksdict = {}\n",
    "    for i in range(len(promsford)): #assembling the peak dictionary\n",
    "        Peaksdict[Wavelengthsford[i]] = promsford[i]\n",
    "\n",
    "        \n",
    "    '''finding rel intensities'''\n",
    "    keypeaks =keypeaks.astype(int)\n",
    "    peaksy = []\n",
    "    for n in keypeaks:\n",
    "        peaksy.append(y[n])\n",
    "    TT=np.max(peaksy)\n",
    "    relint=(peaksy) #replace 1 with 1000/TT\n",
    "    Relintdict = {}\n",
    "    for i in range(len(peaksy)):\n",
    "        Relintdict[Wavelengthsford[i]] = relint[i]\n",
    "    widths = peak_widths(y, keypeaks)\n",
    "    Wavelengthsford=np.array(Wavelengthsford)\n",
    "    widths=widths[0]\n",
    "    GD=[]\n",
    "    for a,b,c in zip(Wavelengthsford,relint,widths):\n",
    "        temp=(a, c*A, b)\n",
    "        GD.append(temp)\n",
    "    return(GD)"
   ]
  },
  {
   "cell_type": "markdown",
   "metadata": {},
   "source": [
    "## 3. Importing Databases into the Notebook as Dictionaries"
   ]
  },
  {
   "cell_type": "markdown",
   "metadata": {},
   "source": [
    "The code below is for importing the dictionaries found at http://astro.u-strasbg.fr/~koppen/discharge/ to be used in the analysis."
   ]
  },
  {
   "cell_type": "code",
   "execution_count": 15,
   "metadata": {},
   "outputs": [],
   "source": [
    "def importdict(textlocation):\n",
    "    '''Returns a dictionary of {wavelength:Relativeintensity} from the text file representing the Database'''\n",
    "    f=open(textlocation,\"r\")\n",
    "    lines=f.readlines()\n",
    "    result=[]\n",
    "    results2 = []\n",
    "    for x in lines:\n",
    "        result.append(x.split(' ')[0])\n",
    "        results2.append(x.split(' ')[-1])\n",
    "    f.close()\n",
    "    a = [float(i) for i in results2]\n",
    "    #in this bit put the code to ma\n",
    "    temp = {}\n",
    "    results = [float(i)*10**(-10) for i in result]\n",
    "    for i in range(len(result)): #assembling the peak dictionary\n",
    "        temp[results[i]] = a[i]\n",
    "    return temp\n",
    "\n",
    "Heliumdict = importdict(heliumtext)\n",
    "Neondict = importdict(neontext)\n",
    "Argondict = importdict(argontext)\n",
    "Kryptondict = importdict(kryptontext)\n",
    "Xenondict = importdict(xenontext)\n",
    "\n"
   ]
  },
  {
   "cell_type": "code",
   "execution_count": 9,
   "metadata": {
    "scrolled": false
   },
   "outputs": [],
   "source": [
    "'''Master Dictionary'''\n",
    "True_element_rel_in_d = {'He': Heliumdict, 'Ne' : Neondict, 'Ar' : Argondict, 'Kr':  Kryptondict, 'Xe' : Xenondict}\n",
    "\n",
    "'''Creating a general dictionary of {elements:[wavelengths]}'''\n",
    "datad= {}\n",
    "for keys in True_element_rel_in_d.keys():\n",
    "    datad.update({f'{keys}': list(True_element_rel_in_d.get(f'{keys}').keys())})"
   ]
  },
  {
   "cell_type": "markdown",
   "metadata": {},
   "source": [
    "## 4. Wavelength matching function"
   ]
  },
  {
   "cell_type": "markdown",
   "metadata": {},
   "source": [
    "The code here is used to match the peaks found in section 2 with the database from section 3 as a sanity check, as well as showing that the analysis is headed in the right direction"
   ]
  },
  {
   "cell_type": "code",
   "execution_count": 10,
   "metadata": {},
   "outputs": [],
   "source": [
    "def matchelements(location): \n",
    "    '''Returns a dictionary containing the matched peaks for each element from the captured spectrum and datad\n",
    "\n",
    "    Parameters: \n",
    "    locatoin(str): Path to folder where all data is kept\n",
    "    \n",
    "    Returns: \n",
    "    Dictionary: {element: [wavelengths of matches]}\n",
    "    '''\n",
    "    testunknown= peaks_datawv(mean_data(location))\n",
    "    unknown = list(testunknown.keys())\n",
    "    founddict = {}\n",
    "    for element in datad.keys():\n",
    "        thelist = []\n",
    "        for x in unknown:\n",
    "            for y in datad.get(element):\n",
    "                if abs(x - y) < 2*6.640*10**(-10):  #GET RID OF THE TIMES 2 MULTIPLE\n",
    "                    thelist.append(round(y, 11))\n",
    "        founddict.update({f'{element}' : thelist})\n",
    "    return founddict"
   ]
  },
  {
   "cell_type": "code",
   "execution_count": 11,
   "metadata": {},
   "outputs": [
    {
     "name": "stdout",
     "output_type": "stream",
     "text": [
      "{'He': [4.1208e-07, 4.121e-07, 4.7131e-07, 4.7134e-07, 4.9219e-07, 5.0157e-07, 6.5601e-07, 6.6781e-07, 7.0657e-07], 'Ne': [4.7044e-07, 4.7089e-07, 4.7101e-07, 4.7121e-07, 4.7154e-07, 4.8273e-07, 5.0052e-07, 5.8525e-07, 6.6783e-07], 'Ar': [3.9794e-07, 3.9948e-07, 4.0444e-07, 4.0529e-07, 4.1317e-07, 4.1907e-07, 4.191e-07, 4.1983e-07, 4.2007e-07, 4.2663e-07, 4.2665e-07, 4.2722e-07, 4.2775e-07, 4.2829e-07, 4.3312e-07, 4.332e-07, 4.3336e-07, 4.3353e-07, 4.3452e-07, 4.3481e-07, 4.3522e-07, 4.5107e-07, 4.7023e-07, 4.9048e-07, 5.0093e-07, 5.0172e-07, 5.1878e-07, 5.5725e-07, 5.8603e-07, 6.0432e-07, 6.0527e-07, 6.0594e-07, 6.6607e-07, 6.6641e-07, 6.6664e-07, 6.6773e-07, 6.6843e-07, 7.0672e-07, 7.0687e-07], 'Kr': [3.9062e-07, 3.9948e-07, 3.9978e-07, 4.057e-07, 4.0651e-07, 4.274e-07, 4.283e-07, 4.3514e-07, 4.3555e-07, 4.4899e-07, 4.5024e-07, 4.8118e-07, 4.8252e-07, 4.8321e-07, 5.5804e-07, 6.0561e-07], 'Xe': [3.9079e-07, 4.0575e-07, 4.1931e-07, 4.2085e-07, 4.2095e-07, 4.3305e-07, 4.8297e-07, 4.9165e-07, 4.9232e-07, 5.1788e-07, 5.188e-07, 5.1914e-07, 5.1921e-07, 6.0362e-07, 6.0512e-07, 6.6689e-07, 7.0821e-07]}\n",
      "Wall time: 1.99 s\n"
     ]
    }
   ],
   "source": [
    "%%time\n",
    "print(matchelements(Heliumlocation))"
   ]
  },
  {
   "cell_type": "markdown",
   "metadata": {},
   "source": [
    "## 5. Gaussian Conversion\n"
   ]
  },
  {
   "cell_type": "markdown",
   "metadata": {},
   "source": [
    "To perform a proper curve fitting analysis, the dictionary and the spectrum must be converted into Gaussian functions for the curve fitting code to use."
   ]
  },
  {
   "cell_type": "code",
   "execution_count": 16,
   "metadata": {},
   "outputs": [],
   "source": [
    "def gaussian(x, mu, sig, a, cfudge = 0):\n",
    "    '''Function to generate a Gaussian Curve'''\n",
    "    return a*np.exp(-np.power(x - mu - (cfudge), 2.) / (2 * np.power(sig, 2.)))\n",
    "\n",
    "def fullgaussian(x, y, cfudge = 0):\n",
    "    '''Function containing a series of Gaussian Curves summed up.\n",
    "    \n",
    "    Parameters: \n",
    "    x(1d-array): An array of wavelengths for the Gaussian to plot\n",
    "    y(list of tuples): where each tuple is of the format (mu, sig, a)\n",
    "\n",
    "    Returns: \n",
    "    The value of the gaussian at x.\n",
    "    '''\n",
    "    b = 0\n",
    "    for mu, sig, a in y:\n",
    "        b += gaussian(x, mu, sig, a, cfudge)\n",
    "    return b\n",
    "    \n",
    "def plotgaussiandict(useddict, Element = None):\n",
    "    '''Plots a database dictionary into a Gaussian curve'''\n",
    "    emptylist = []\n",
    "    x_values = np.linspace(2.75*10**(-7), 8*10**(-7), 1200)\n",
    "    useddict = useddict\n",
    "    for x in useddict:\n",
    "        temp = (x, 1e-09, useddict[x]*100)\n",
    "        emptylist.append(temp)\n",
    "    plt.plot(x_values, fullgaussian(x_values, emptylist))\n",
    "    plt.xlabel(r'Wavelength (m)')\n",
    "    plt.ylabel(r'Arbitrary Intensity')\n",
    "    if Element == None:\n",
    "        plt.title(f'Gaussian-Converted Plot of Dictionary')\n",
    "    else:\n",
    "        plt.title(f'Gaussian-Converted Plot of Dictionary {Element}')\n",
    "    plt.show()\n",
    "    \n",
    "def plotgaussianspectrum(location, Element = None):\n",
    "    '''Plots a captured spectrum into a Gaussian curve'''\n",
    "    x_values = np.linspace(2.75*10**(-7), 8*10**(-7), 1200)\n",
    "    y = extrainfo(mean_data(location))\n",
    "    plt.plot(x_values-1, fullgaussian(x_values, y))\n",
    "    plt.xlabel(r'Wavelength (m)')\n",
    "    plt.ylabel(r'Arbitrary Intensity')\n",
    "    if Element == None:\n",
    "        plt.title(f'Gaussian-Converted Plot of Captured Spectrum')\n",
    "    else:\n",
    "        plt.title(f'Gaussian-Converted Plot of Captured {Element} Spectrum')\n",
    "    plt.show()"
   ]
  },
  {
   "cell_type": "markdown",
   "metadata": {},
   "source": [
    "### Analysis of what each Peak Corresponds to"
   ]
  },
  {
   "cell_type": "markdown",
   "metadata": {},
   "source": [
    "The code below provides a more thorough analysis of what each peak corresponds to in the spectrums"
   ]
  },
  {
   "cell_type": "code",
   "execution_count": 17,
   "metadata": {},
   "outputs": [],
   "source": [
    "def plotgaussianmatchedspect(location, Element = None):\n",
    "    '''Plots the Gaussian spectrum overlayed with vertical lines showing what each peak corresponds to.'''\n",
    "    x_values = np.linspace(2.75*10**(-7), 8*10**(-7), 1200)\n",
    "    y = extrainfo(mean_data(location))\n",
    "    plt.plot(x_values, fullgaussian(x_values, y))\n",
    "    plt.xlabel(r'Wavelength (m)')\n",
    "    plt.ylabel(r'Arbitrary Intensity')\n",
    "    testloc = matchelements(location)\n",
    "    for a in testloc.keys():\n",
    "        if a == 'He':\n",
    "            color = 'b'\n",
    "        elif a == 'Ne':\n",
    "            color = 'g'\n",
    "        elif a == 'Ar':\n",
    "            color = 'r'\n",
    "        elif a == 'Kr':\n",
    "            color = 'c'\n",
    "        elif a == 'Xe':\n",
    "            color = 'm'\n",
    "        plt.axvline(testloc[a][0], linestyle=':', color = color, label = a) #duplicate line for labeling purposes\n",
    "        for x in testloc[a]:\n",
    "            plt.axvline(x,linestyle=':', color = color)            \n",
    "    if Element == None:\n",
    "        plt.title(f'Plot of Matched Gaussian Lines')\n",
    "    else:\n",
    "        plt.title(f'Plot of Matched Gaussian Lines {Element}')\n",
    "    plt.legend()\n",
    "    plt.show()"
   ]
  },
  {
   "cell_type": "code",
   "execution_count": 18,
   "metadata": {},
   "outputs": [],
   "source": [
    "def plotgaussiandicttemp(useddict, x_values, multiple):\n",
    "    emptylist = []\n",
    "    useddict = useddict\n",
    "    for x in useddict:\n",
    "        temp = (x, 1e-09, useddict[x]*multiple)\n",
    "        emptylist.append(temp)\n",
    "    plt.plot(x_values, fullgaussian(x_values, emptylist), label = 'database', alpha = 0.5, marker = ',')\n",
    "\n",
    "\n",
    "def tempanalysis(a, location, testloc, color, Element, x_values, y, multiple = 50):\n",
    "    #testloc = matchelements(location)\n",
    "    plt.axvline(testloc[a][0], linestyle=':', color = color, label = a)\n",
    "    for x in testloc[a]:\n",
    "        plt.axvline(x,linestyle=':', color = color)\n",
    "    if Element == None:\n",
    "        plt.title(f'Plot of Matched Gaussian Lines')\n",
    "    else:\n",
    "        plt.title(f'Plot of Matched Gaussian Lines {Element}')\n",
    "    plt.plot(x_values, fullgaussian(x_values, y))\n",
    "    plotgaussiandicttemp(True_element_rel_in_d[a], x_values, multiple)    \n",
    "    plt.xlabel(r'Wavelength (m)')\n",
    "    plt.ylabel(r'Arbitrary Intensity')\n",
    "    plt.legend()\n",
    "    plt.show()\n",
    "\n",
    "def plotgaussiananalysis(location, Element = None):\n",
    "    '''Returns different plots where the captured spectrum is overlayed with the dictionary and lines showing any matched peaks.\n",
    "    \n",
    "    Parameters: \n",
    "    location(str): Path to where the folder containing data is kept\n",
    "\n",
    "    Returns: \n",
    "    Plots of overlayed Spectrum, Dictionaries, and Matches.\n",
    "    '''\n",
    "    location = location\n",
    "    testloc = matchelements(location)\n",
    "    x_values = np.linspace(2.75*10**(-7), 8*10**(-7), 1200)\n",
    "    y = extrainfo(mean_data(location))\n",
    "\n",
    "    for a in testloc.keys():\n",
    "        if a == 'He':\n",
    "            color = 'b'\n",
    "            tempanalysis(a, location, testloc, color, Element, x_values, y, multiple = 15)\n",
    "        elif a == 'Ne':\n",
    "            color = 'g'\n",
    "            tempanalysis(a, location, testloc, color, Element, x_values, y, multiple = 50)\n",
    "        elif a == 'Ar':\n",
    "            color = 'r'\n",
    "            tempanalysis(a, location, testloc, color, Element, x_values, y, multiple = 7.5)\n",
    "        elif a == 'Kr':\n",
    "            color = 'c'\n",
    "            tempanalysis(a, location, testloc, color, Element, x_values, y, multiple = 5)\n",
    "        elif a == 'Xe':\n",
    "            color = 'm'\n",
    "            tempanalysis(a, location, testloc, color, Element, x_values, y, multiple = 10)\n",
    "def singleanalysis(location, a, multiple, Element = None):\n",
    "    '''Returns a single plot where the captured spectrum is overlayed with the respective dictionary and lines showing any matched peaks.\n",
    "    \n",
    "    Parameters: \n",
    "    location(str): Path to where the folder containing data is kept\n",
    "    a(str): The key of the element for dictionary, format of 'He'\n",
    "\n",
    "    Returns: \n",
    "    Plot of overlayed Spectrum, Dictionaries, and Matches.\n",
    "    '''\n",
    "    location = location\n",
    "    testloc = matchelements(location)\n",
    "    x_values = np.linspace(2.75*10**(-7), 8*10**(-7), 1200)\n",
    "    y = extrainfo(mean_data(location))\n",
    "    useddict = True_element_rel_in_d[a]\n",
    "    color = 'k'\n",
    "    plt.plot(x_values, fullgaussian(x_values,y), label = 'captured')\n",
    "    plotgaussiandicttemp(useddict, x_values, multiple)\n",
    "    plt.legend()\n",
    "    plt.show()"
   ]
  },
  {
   "cell_type": "markdown",
   "metadata": {},
   "source": [
    "## 6. Scaling Dictionaries"
   ]
  },
  {
   "cell_type": "markdown",
   "metadata": {},
   "source": [
    "The Dictionaries from online are simply showing relative intensities. These intensities need\n",
    "to be scaled according to transmission probabilities."
   ]
  },
  {
   "cell_type": "code",
   "execution_count": 19,
   "metadata": {},
   "outputs": [],
   "source": [
    "def scaleme(dictionary, I, wvint):\n",
    "    '''Scales a dictionary with the proper intensity at a specified wavelength'''\n",
    "    temp = {}\n",
    "    scale = I/wvint #inputscaleing here\n",
    "    for wavelength in dictionary:\n",
    "        temp.update({wavelength : dictionary[wavelength]*scale})\n",
    "    return temp\n",
    "HeRelativelyTrueDict = scaleme(Heliumdict, 5.7234*10**(-12), 50)\n",
    "NeRelativelyTrueDict = scaleme(Neondict, 2.278*10**(-11), 500 )\n",
    "ArRelativelyTrueDict = scaleme(Argondict, 1.856*10**(-12), 200)\n",
    "KrRelativelyTrueDict = scaleme(Kryptondict, 7.49*10**(-13), 2000)\n",
    "XeRelativelyTrueDict = scaleme(Xenondict, 1.773*10**(-12), 500)"
   ]
  },
  {
   "cell_type": "code",
   "execution_count": 16,
   "metadata": {
    "scrolled": false
   },
   "outputs": [
    {
     "name": "stdout",
     "output_type": "stream",
     "text": [
      "{3.90618e-07: 5.6175000000000004e-14, 3.92008e-07: 7.49e-14, 3.9948400000000003e-07: 3.745e-14, 3.99779e-07: 3.745e-14, 4.05704e-07: 1.1235000000000001e-13, 4.0651300000000003e-07: 1.1235000000000001e-13, 4.0883400000000005e-07: 1.8725e-13, 4.09873e-07: 9.3625e-14, 4.10925e-07: 3.745e-14, 4.14512e-07: 9.3625e-14, 4.25058e-07: 5.6175000000000004e-14, 4.2739700000000005e-07: 3.745e-13, 4.2829700000000007e-07: 3.745e-14, 4.29292e-07: 2.2470000000000002e-13, 4.30049e-07: 7.49e-14, 4.3178100000000005e-07: 1.8725e-13, 4.31855e-07: 1.498e-13, 4.31958e-07: 3.745e-13, 4.3229799999999997e-07: 5.6175000000000004e-14, 4.3513599999999996e-07: 3.745e-14, 4.3554799999999995e-07: 1.1235e-12, 4.362640000000001e-07: 1.8725e-13, 4.36969e-07: 7.49e-14, 4.37612e-07: 2.996e-13, 4.3865400000000003e-07: 1.1235000000000001e-13, 4.3999700000000005e-07: 7.49e-14, 4.42519e-07: 3.745e-14, 4.43169e-07: 1.8725e-13, 4.4368100000000004e-07: 2.2470000000000002e-13, 4.4539200000000005e-07: 2.2470000000000002e-13, 4.4636899999999997e-07: 2.996e-13, 4.4750100000000003e-07: 2.996e-13, 4.4898800000000005e-07: 1.498e-13, 4.5023500000000006e-07: 2.2470000000000002e-13, 4.5231400000000006e-07: 1.498e-13, 4.5566099999999997e-07: 7.49e-14, 4.57721e-07: 2.996e-13, 4.5829799999999997e-07: 1.1235000000000001e-13, 4.5928e-07: 5.6175000000000004e-14, 4.61529e-07: 1.8725e-13, 4.61917e-07: 3.745e-13, 4.6338900000000005e-07: 2.996e-13, 4.6588800000000005e-07: 7.49e-13, 4.6804e-07: 1.8725e-13, 4.6913e-07: 3.745e-14, 4.69436e-07: 7.49e-14, 4.7390000000000003e-07: 1.1235e-12, 4.76244e-07: 1.1235000000000001e-13, 4.76574e-07: 3.745e-13, 4.81176e-07: 1.1235000000000001e-13, 4.82518e-07: 1.1235000000000001e-13, 4.83208e-07: 2.996e-13, 4.84661e-07: 2.6215e-13, 4.8572e-07: 5.6175000000000004e-14, 4.94559e-07: 1.1235000000000001e-13, 5.0224e-07: 7.49e-14, 5.08652e-07: 9.3625e-14, 5.12573e-07: 1.498e-13, 5.20832e-07: 1.8725e-13, 5.30866e-07: 7.49e-14, 5.33341e-07: 1.8725e-13, 5.46817e-07: 7.49e-14, 5.56222e-07: 1.8725e-13, 5.57029e-07: 7.49e-13, 5.58039e-07: 2.996e-14, 5.64956e-07: 3.745e-14, 5.68189e-07: 1.498e-13, 5.690350000000001e-07: 7.49e-14, 5.83286e-07: 3.745e-14, 5.87091e-07: 1.1235e-12, 5.992220000000001e-07: 7.49e-14, 5.99385e-07: 2.247e-14, 6.05613e-07: 2.247e-14, 6.42018e-07: 1.1235000000000001e-13, 6.42103e-07: 3.745e-14, 6.456290000000001e-07: 7.49e-14, 6.57007e-07: 5.6175000000000004e-14, 6.699229999999999e-07: 2.247e-14, 6.904680000000001e-07: 3.745e-14}\n",
      "\n",
      "{3.92572e-07: 3.2480000000000004e-13, 3.92862e-07: 4.64e-13, 3.9325500000000004e-07: 2.32e-13, 3.9461e-07: 6.496000000000001e-13, 3.9475100000000004e-07: 6.496000000000001e-14, 3.94898e-07: 3.2480000000000004e-13, 3.97936e-07: 1.856e-13, 3.99479e-07: 3.2480000000000004e-13, 4.01386e-07: 4.64e-13, 4.0338100000000003e-07: 4.64e-13, 4.0354600000000003e-07: 1.856e-13, 4.04289e-07: 1.3920000000000001e-12, 4.0444200000000004e-07: 4.64e-13, 4.05292e-07: 9.28e-13, 4.07201e-07: 1.856e-12, 4.07239e-07: 6.496000000000001e-13, 4.07663e-07: 2.32e-13, 4.0795700000000003e-07: 3.2480000000000004e-13, 4.08239e-07: 2.32e-13, 4.10391e-07: 1.3920000000000001e-12, 4.1317200000000004e-07: 2.7840000000000003e-12, 4.15609e-07: 3.2480000000000004e-13, 4.1585900000000004e-07: 3.712e-12, 4.1641800000000007e-07: 4.64e-13, 4.1793000000000004e-07: 3.2480000000000004e-13, 4.18188e-07: 4.64e-13, 4.1907100000000003e-07: 9.28e-13, 4.1910299999999996e-07: 4.64e-13, 4.1983199999999997e-07: 1.856e-12, 4.20067e-07: 3.712e-12, 4.2186700000000003e-07: 2.32e-13, 4.2226400000000003e-07: 2.32e-13, 4.22699e-07: 2.32e-13, 4.22816e-07: 9.28e-13, 4.2372200000000004e-07: 9.28e-13, 4.2511899999999996e-07: 2.32e-13, 4.2593599999999996e-07: 1.856e-12, 4.2662900000000003e-07: 9.28e-13, 4.26653e-07: 6.496000000000001e-13, 4.27217e-07: 1.3920000000000001e-12, 4.27753e-07: 5.104000000000001e-12, 4.2829e-07: 1.856e-13, 4.300100000000001e-07: 9.28e-13, 4.3006499999999995e-07: 2.32e-13, 4.30924e-07: 6.496000000000001e-13, 4.3312e-07: 1.856e-12, 4.3320299999999996e-07: 4.64e-13, 4.3335600000000006e-07: 9.28e-13, 4.3353400000000005e-07: 4.64e-13, 4.34517e-07: 2.32e-13, 4.3480600000000006e-07: 7.424e-12, 4.3522100000000003e-07: 4.64e-13, 4.36207e-07: 2.32e-13, 4.36783e-07: 4.64e-13, 4.37075e-07: 1.856e-12, 4.3713300000000003e-07: 6.496000000000001e-13, 4.37595e-07: 4.64e-13, 4.37967e-07: 1.3920000000000001e-12, 4.385060000000001e-07: 4.64e-13, 4.4001000000000003e-07: 6.496000000000001e-13, 4.40099e-07: 1.856e-12, 4.426e-07: 3.712e-12, 4.43019e-07: 1.3920000000000001e-12, 4.431e-07: 4.64e-13, 4.4338400000000005e-07: 4.64e-13, 4.43946e-07: 1.856e-13, 4.44888e-07: 3.2480000000000004e-13, 4.4747600000000003e-07: 9.28e-13, 4.4818100000000006e-07: 1.856e-12, 4.5107299999999995e-07: 9.28e-13, 4.5223199999999997e-07: 1.856e-13, 4.5305500000000003e-07: 1.856e-13, 4.5450500000000003e-07: 3.712e-12, 4.56441e-07: 1.856e-13, 4.5793500000000006e-07: 3.712e-12, 4.5898999999999996e-07: 3.712e-12, 4.596100000000001e-07: 1.392e-13, 4.60957e-07: 5.104000000000001e-12, 4.62844e-07: 6.496000000000001e-14, 4.6372299999999995e-07: 3.2480000000000004e-13, 4.6579e-07: 3.712e-12, 4.70232e-07: 1.392e-13, 4.7215900000000004e-07: 1.856e-13, 4.72687e-07: 5.104000000000001e-12, 4.7320500000000006e-07: 4.64e-13, 4.73591e-07: 2.7840000000000003e-12, 4.76487e-07: 7.424e-12, 4.806020000000001e-07: 5.104000000000001e-12, 4.84781e-07: 1.3920000000000001e-12, 4.86591e-07: 4.64e-13, 4.87986e-07: 7.424e-12, 4.88904e-07: 6.496000000000001e-13, 4.904750000000001e-07: 1.856e-13, 4.933210000000001e-07: 3.2480000000000004e-13, 4.96508e-07: 1.856e-12, 5.00933e-07: 4.64e-13, 5.01716e-07: 6.496000000000001e-13, 5.06204e-07: 6.496000000000001e-13, 5.0905e-07: 1.856e-13, 5.14178e-07: 9.28e-13, 5.14531e-07: 6.496000000000001e-13, 5.151390000000001e-07: 4.64e-14, 5.16229e-07: 1.392e-13, 5.165770000000001e-07: 2.32e-13, 5.187750000000001e-07: 1.856e-13, 5.21681e-07: 1.856e-13, 5.221270000000001e-07: 6.496000000000001e-14, 5.421350000000001e-07: 4.64e-14, 5.45165e-07: 9.28e-14, 5.49587e-07: 2.32e-13, 5.50611e-07: 4.64e-14, 5.5587e-07: 2.32e-13, 5.57254e-07: 9.28e-14, 5.60673e-07: 3.2480000000000004e-13, 5.6507e-07: 1.856e-13, 5.739520000000001e-07: 9.28e-14, 5.834260000000001e-07: 4.64e-14, 5.860310000000001e-07: 9.28e-14, 5.882620000000001e-07: 1.392e-13, 5.88858e-07: 2.32e-13, 5.91209e-07: 4.64e-13, 5.928810000000001e-07: 1.392e-13, 5.94267e-07: 4.64e-14, 5.987300000000001e-07: 6.496000000000001e-14, 5.999000000000001e-07: 4.64e-14, 6.025149999999999e-07: 4.64e-14, 6.03213e-07: 6.496000000000001e-13, 6.043220000000001e-07: 3.2480000000000004e-13, 6.05272e-07: 9.28e-14, 6.059370000000001e-07: 1.856e-13, 6.098800000000001e-07: 6.496000000000001e-14, 6.105640000000001e-07: 9.28e-14, 6.11492e-07: 9.28e-13, 6.14544e-07: 9.28e-14, 6.17017e-07: 6.496000000000001e-14, 6.17228e-07: 1.3920000000000001e-12, 6.173100000000001e-07: 9.28e-14, 6.2125e-07: 9.28e-14, 6.21594e-07: 4.64e-14, 6.24312e-07: 2.32e-13, 6.29687e-07: 6.496000000000001e-14, 6.30766e-07: 1.392e-13, 6.36958e-07: 6.496000000000001e-14, 6.384720000000001e-07: 1.856e-13, 6.41631e-07: 6.496000000000001e-13, 6.48308e-07: 2.32e-13, 6.53811e-07: 1.392e-13, 6.604850000000001e-07: 1.392e-13, 6.638220000000001e-07: 2.32e-13, 6.63974e-07: 1.856e-13, 6.6437e-07: 4.64e-13, 6.66068e-07: 4.64e-14, 6.66405e-07: 4.64e-14, 6.66636e-07: 2.32e-13, 6.67728e-07: 9.28e-13, 6.68429e-07: 3.2480000000000004e-13, 6.75283e-07: 1.3920000000000001e-12, 6.756160000000001e-07: 4.64e-14, 6.76661e-07: 1.392e-13, 6.861270000000001e-07: 1.856e-13, 6.87129e-07: 1.3920000000000001e-12, 6.87958e-07: 4.64e-14, 6.88817e-07: 9.28e-14, 6.93766e-07: 4.64e-13, 6.95148e-07: 6.496000000000001e-14, 6.96025e-07: 6.496000000000001e-14, 6.96543e-07: 9.279072000000001e-11, 7.03025e-07: 1.3920000000000001e-12, 7.06722e-07: 9.279072000000001e-11, 7.06874e-07: 9.28e-13, 7.10748e-07: 2.32e-13, 7.12582e-07: 2.32e-13, 7.14704e-07: 9.280000000000001e-12, 7.158840000000001e-07: 1.392e-13}\n"
     ]
    }
   ],
   "source": [
    "print(KrRelativelyTrueDict)\n",
    "print('')\n",
    "print(ArRelativelyTrueDict)"
   ]
  },
  {
   "cell_type": "markdown",
   "metadata": {},
   "source": [
    "## 7. Curve Fitting"
   ]
  },
  {
   "cell_type": "markdown",
   "metadata": {},
   "source": [
    "Once the dictionaries have been properly scaled and the Gaussian Spectrums have been defined, curve fitting can be applied."
   ]
  },
  {
   "cell_type": "code",
   "execution_count": 23,
   "metadata": {},
   "outputs": [],
   "source": [
    "def _generalizedgaussian(useddict):\n",
    "    useddict = useddict\n",
    "    emptylist = []\n",
    "    for x in useddict:\n",
    "        temp = (x, 1e-09, useddict[x]*10**(10))\n",
    "        emptylist.append(temp)\n",
    "    return emptylist\n",
    "def generalizedgaussian(x, a, b, c, d, e, cfudge):\n",
    "    '''Returns the function of a generalized gaussian containing all 5 elements from the database'''\n",
    "    HeList = _generalizedgaussian(HeRelativelyTrueDict)\n",
    "    NeList = _generalizedgaussian(NeRelativelyTrueDict)\n",
    "    ArList = _generalizedgaussian(ArRelativelyTrueDict)\n",
    "    KrList = _generalizedgaussian(KrRelativelyTrueDict)\n",
    "    XeList = _generalizedgaussian(XeRelativelyTrueDict)\n",
    "    \n",
    "    function = 0 \n",
    "    function += a*fullgaussian(x, HeList, cfudge)\n",
    "    function += b*fullgaussian(x, NeList, cfudge)\n",
    "    function += c*fullgaussian(x, ArList, cfudge)\n",
    "    function += d*fullgaussian(x, KrList, cfudge)\n",
    "    function += e*fullgaussian(x, XeList, cfudge)\n",
    "    return function"
   ]
  },
  {
   "cell_type": "markdown",
   "metadata": {},
   "source": [
    "### Curve Fitting for the Neon Lamp Example"
   ]
  },
  {
   "cell_type": "code",
   "execution_count": 18,
   "metadata": {},
   "outputs": [
    {
     "ename": "NameError",
     "evalue": "name 'LampNeonlocation' is not defined",
     "output_type": "error",
     "traceback": [
      "\u001b[1;31m---------------------------------------------------------------------------\u001b[0m",
      "\u001b[1;31mNameError\u001b[0m                                 Traceback (most recent call last)",
      "\u001b[1;32m<ipython-input-18-2e81371eabb3>\u001b[0m in \u001b[0;36m<module>\u001b[1;34m()\u001b[0m\n\u001b[1;32m----> 1\u001b[1;33m \u001b[0mlocation\u001b[0m\u001b[1;33m=\u001b[0m \u001b[0mLampNeonlocation\u001b[0m\u001b[1;33m\u001b[0m\u001b[0m\n\u001b[0m\u001b[0;32m      2\u001b[0m \u001b[1;33m\u001b[0m\u001b[0m\n\u001b[0;32m      3\u001b[0m \u001b[0mx_values\u001b[0m \u001b[1;33m=\u001b[0m \u001b[0mnp\u001b[0m\u001b[1;33m.\u001b[0m\u001b[0mlinspace\u001b[0m\u001b[1;33m(\u001b[0m\u001b[1;36m3\u001b[0m\u001b[1;33m*\u001b[0m\u001b[1;36m10\u001b[0m\u001b[1;33m**\u001b[0m\u001b[1;33m(\u001b[0m\u001b[1;33m-\u001b[0m\u001b[1;36m7\u001b[0m\u001b[1;33m)\u001b[0m\u001b[1;33m,\u001b[0m \u001b[1;36m8\u001b[0m\u001b[1;33m*\u001b[0m\u001b[1;36m10\u001b[0m\u001b[1;33m**\u001b[0m\u001b[1;33m(\u001b[0m\u001b[1;33m-\u001b[0m\u001b[1;36m7\u001b[0m\u001b[1;33m)\u001b[0m\u001b[1;33m,\u001b[0m \u001b[1;36m1200\u001b[0m\u001b[1;33m)\u001b[0m\u001b[1;33m\u001b[0m\u001b[0m\n\u001b[0;32m      4\u001b[0m \u001b[0mxdata\u001b[0m \u001b[1;33m=\u001b[0m \u001b[0mx_values\u001b[0m\u001b[1;33m\u001b[0m\u001b[0m\n\u001b[0;32m      5\u001b[0m \u001b[1;33m\u001b[0m\u001b[0m\n",
      "\u001b[1;31mNameError\u001b[0m: name 'LampNeonlocation' is not defined"
     ]
    }
   ],
   "source": [
    "location= LampNeonlocation\n",
    "\n",
    "x_values = np.linspace(3*10**(-7), 8*10**(-7), 1200)\n",
    "xdata = x_values\n",
    "\n",
    "\n",
    "y = extrainfo(mean_data(location))\n",
    "ydata = fullgaussian(x_values, y)\n",
    "\n",
    "func = generalizedgaussian\n",
    "p0 = (0, 10000, 0, 0, 0, 0)\n",
    "popt, pcov = curve_fit(func, xdata, ydata, p0 = p0, bounds = (0, np.inf))\n",
    "print(popt)\n",
    "print(np.sqrt(np.diag(pcov)))\n",
    "\n",
    "plt.plot(x_values, generalizedgaussian(x_values, a=popt[0], b=popt[1], c=popt[2], d=popt[3], e=popt[4], cfudge = popt[5]), label = 'fit',   alpha = 0.5)\n",
    "#plt.plot(x_values, generalizedgaussian(x_values, a=0*popt[0], b=3*popt[1], c=0*popt[2], d=0*popt[3], e=0*popt[4], cfudge = 0*popt[5]), label = 'fit',   alpha = 0.5)\n",
    "\n",
    "plt.plot(xdata, ydata, label = 'captured')\n",
    "plt.legend()\n",
    "plt.show()"
   ]
  },
  {
   "cell_type": "markdown",
   "metadata": {},
   "source": [
    "### Curve Fitting for Helium Ampuole Example"
   ]
  },
  {
   "cell_type": "code",
   "execution_count": 19,
   "metadata": {
    "scrolled": false
   },
   "outputs": [
    {
     "name": "stdout",
     "output_type": "stream",
     "text": [
      "[9.51747078e+03 9.62055100e+03 3.43080304e+03 9.36873876e+02\n",
      " 6.20709362e+03 8.80621505e-13]\n",
      "\n",
      "[1.70854696e+03 1.68356856e+03 8.78782721e+02 3.17678731e+01\n",
      " 3.92849987e+02 9.31383385e-10]\n"
     ]
    },
    {
     "data": {
      "image/png": "[encoded data removed]",
      "text/plain": [
       "<Figure size 432x288 with 1 Axes>"
      ]
     },
     "metadata": {},
     "output_type": "display_data"
    }
   ],
   "source": [
    "location= Heliumlocation\n",
    "\n",
    "x_values = np.linspace(2.75*10**(-7), 8*10**(-7), 1200)\n",
    "xdata = x_values\n",
    "\n",
    "\n",
    "y = extrainfo(mean_data(location))\n",
    "ydata = fullgaussian(x_values, y)\n",
    "\n",
    "func = generalizedgaussian\n",
    "p0 = (1000, 0, 0, 0, 0, 0)\n",
    "popt, pcov = curve_fit(func, xdata, ydata, p0 = p0, bounds = (0, [np.inf, np.inf, np.inf, np.inf, np.inf, 1*10**-8]))\n",
    "print(popt)\n",
    "print('')\n",
    "print(np.sqrt(np.diag(pcov)))\n",
    "\n",
    "\n",
    "plt.plot(x_values, generalizedgaussian(x_values, a=popt[0], b=popt[1], c=popt[2], d=popt[3], e=popt[4], cfudge = popt[5]), label = 'fit',   alpha = 0.5)\n",
    "plt.plot(xdata, ydata, label = 'captured')\n",
    "plt.legend()\n",
    "plt.show()"
   ]
  },
  {
   "cell_type": "code",
   "execution_count": 30,
   "metadata": {},
   "outputs": [],
   "source": [
    "x_values = np.linspace(2.75*10**(-7), 8*10**(-7), 1200)\n",
    "xdata = x_values\n",
    "func = generalizedgaussian\n",
    "def pcomposition(location, p0 = None, thing = None):\n",
    "    '''Returns the Percentage Composition of a spectrum\n",
    "    insert docstring stuff\n",
    "    '''\n",
    "    x_values = np.linspace(2.75*10**(-7), 8*10**(-7), 1200)\n",
    "    location = location\n",
    "    y = extrainfo(mean_data(location))\n",
    "    ydata = fullgaussian(x_values, y)\n",
    "    popt, pcov = curve_fit(func, xdata, ydata, p0 = p0, bounds = (0, [np.inf, np.inf, np.inf, np.inf, np.inf, 1*10**-8]))\n",
    "    A = np.sum(popt) - popt[5]\n",
    "    Npopt=popt*1/A\n",
    "    error=np.sqrt(np.diag(pcov))\n",
    "    Nerror=error*1/A\n",
    "    print(popt)\n",
    "    print('')\n",
    "    print(error)\n",
    "    print('')\n",
    "    print('')\n",
    "    \n",
    "    print(f'Percentage composition of {thing}')\n",
    "    print('')\n",
    "    print(f'Helium:{Npopt[0]} ± {Nerror[0]}')\n",
    "    print(f'Neon:{Npopt[1]} ± {Nerror[1]}')\n",
    "    print(f'Argon:{Npopt[2]} ± {Nerror[2]}')\n",
    "    print(f'Krypton:{Npopt[3]} ± {Nerror[3]}')\n",
    "    print(f'Xenon:{Npopt[4]} ± {Nerror[4]}')\n",
    "    print('')\n",
    "    print(f'Wavelength shift:{popt[5]} ± {error[5]}')\n",
    "    print('')\n",
    "    labels = ['Helium', 'Neon', 'Argon','Krypton', 'Xenon']\n",
    "    sizes = [Npopt[0],Npopt[1], Npopt[2], Npopt[3], Npopt[4]]\n",
    "    explode = (0.1, 0.1, 0.1, 0.1, 0.1)\n",
    "\n",
    "    fig1, ax1 = plt.subplots()\n",
    "    ax1.pie(sizes, explode=explode, labels=labels, autopct='%1.1f%%',\n",
    "            shadow=True, startangle=90,colors = ['orange','blue','purple','green','red'])\n",
    "    ax1.axis('equal')\n",
    "    plt.title(f'Percentage composition of Noble gases detected in the {thing}')\n",
    "    plt.show()\n",
    "    print('')"
   ]
  },
  {
   "cell_type": "code",
   "execution_count": 31,
   "metadata": {
    "scrolled": false
   },
   "outputs": [
    {
     "name": "stdout",
     "output_type": "stream",
     "text": [
      "[6.33911646e-06 5.17944237e-06 5.21054999e-06 3.30582657e-07\n",
      " 2.39452581e-06 9.99999951e-11]\n",
      "\n",
      "[1.89157395e+03 2.11359529e+03 1.02659063e+03 4.27432008e+04\n",
      " 4.23112672e+03 1.29020766e+00]\n",
      "\n",
      "\n",
      "Percentage composition of Helium Ampule\n",
      "\n",
      "Helium:0.32584793134241885 ± 97232076.65015678\n",
      "Neon:0.2662375100772738 ± 108644581.12111892\n",
      "Argon:0.26783652683640374 ± 52769567.510884166\n",
      "Krypton:0.016992853135777898 ± 2197117475.7157483\n",
      "Xenon:0.12308517860812578 ± 217491490.869646\n",
      "\n",
      "Wavelength shift:9.999999511594809e-11 ± 1.290207659579588\n",
      "\n"
     ]
    },
    {
     "data": {
      "image/png": "[encoded data removed]",
      "text/plain": [
       "<Figure size 432x288 with 1 Axes>"
      ]
     },
     "metadata": {},
     "output_type": "display_data"
    },
    {
     "name": "stdout",
     "output_type": "stream",
     "text": [
      "\n",
      "[3.03346808e-06 7.93465738e-06 3.77655712e-06 2.29239900e-07\n",
      " 3.67805375e-06 9.99999946e-11]\n",
      "\n",
      "[3.11757680e+03 3.94458619e+03 1.76952517e+03 7.49745334e+04\n",
      " 7.37700894e+03 2.73907077e+00]\n",
      "\n",
      "\n",
      "Percentage composition of Neon Ampule\n",
      "\n",
      "Helium:0.16263521061128408 ± 167144583.3061092\n",
      "Neon:0.42540572009941247 ± 211483551.96689153\n",
      "Argon:0.2024749052400159 ± 94870653.29382534\n",
      "Krypton:0.012290381306358783 ± 4019656276.893396\n",
      "Xenon:0.19719378274292887 ± 395508167.29365385\n",
      "\n",
      "Wavelength shift:9.99999946104776e-11 ± 2.739070768396626\n",
      "\n"
     ]
    },
    {
     "data": {
      "image/png": "[encoded data removed]",
      "text/plain": [
       "<Figure size 432x288 with 1 Axes>"
      ]
     },
     "metadata": {},
     "output_type": "display_data"
    },
    {
     "name": "stdout",
     "output_type": "stream",
     "text": [
      "\n",
      "[1.51290708e-07 7.02919253e-07 5.52371337e-07 5.35317641e-08\n",
      " 4.30714612e-07 1.00000031e-10]\n",
      "\n",
      "[1.43303944e+03 1.80461982e+03 8.61201543e+02 3.50970336e+04\n",
      " 3.44351694e+03 1.19354115e+01]\n",
      "\n",
      "\n",
      "Percentage composition of Argon Ampule\n",
      "\n",
      "Helium:0.08001295414375188 ± 757890029.6269051\n",
      "Neon:0.371752149963081 ± 954407343.1148353\n",
      "Argon:0.2921320355813321 ± 455462734.7587101\n",
      "Krypton:0.02831128653679459 ± 18561730417.094933\n",
      "Xenon:0.22779157377504056 ± 1821169105.7162523\n",
      "\n",
      "Wavelength shift:1.000000309556421e-10 ± 11.935411451984786\n",
      "\n"
     ]
    },
    {
     "data": {
      "image/png": "[encoded data removed]",
      "text/plain": [
       "<Figure size 432x288 with 1 Axes>"
      ]
     },
     "metadata": {},
     "output_type": "display_data"
    },
    {
     "name": "stdout",
     "output_type": "stream",
     "text": [
      "\n",
      "[4.64532829e-06 5.80839161e-06 4.28135858e-06 5.25499960e-07\n",
      " 5.10699560e-06 9.99999996e-11]\n",
      "\n",
      "[2.10063524e+03 2.43535306e+03 1.15943781e+03 4.87045032e+04\n",
      " 4.78600825e+03 1.70648018e+00]\n",
      "\n",
      "\n",
      "Percentage composition of Krypton Ampule\n",
      "\n",
      "Helium:0.22807469759308566 ± 103136251.78920266\n",
      "Neon:0.28517837230693927 ± 119570109.54978962\n",
      "Argon:0.21020464050702994 ± 56925670.632902354\n",
      "Krypton:0.025800812563752964 ± 2391276598.52371\n",
      "Xenon:0.2507414770291923 ± 234981753.1121252\n",
      "\n",
      "Wavelength shift:9.999999955774406e-11 ± 1.7064801846905473\n",
      "\n"
     ]
    },
    {
     "data": {
      "image/png": "[encoded data removed]",
      "text/plain": [
       "<Figure size 432x288 with 1 Axes>"
      ]
     },
     "metadata": {},
     "output_type": "display_data"
    },
    {
     "name": "stdout",
     "output_type": "stream",
     "text": [
      "\n",
      "[2.36975445e-07 3.04951825e-07 3.50142321e-07 4.27156207e-08\n",
      " 8.58418549e-07 1.00000064e-10]\n",
      "\n",
      "[5.51887206e+02 6.48342995e+02 3.17848236e+02 1.32313468e+04\n",
      " 1.30859020e+03 6.43443275e+00]\n",
      "\n",
      "\n",
      "Percentage composition of Xenon Ampule\n",
      "\n",
      "Helium:0.13215198965511643 ± 307766032.29408145\n",
      "Neon:0.17005977327478508 ± 361555674.56391656\n",
      "Argon:0.195260755724686 ± 177251599.95908418\n",
      "Krypton:0.023820840457213183 ± 7378607540.954508\n",
      "Xenon:0.4787066408881993 ± 729749866.6232357\n",
      "\n",
      "Wavelength shift:1.000000642303833e-10 ± 6.4344327489350075\n",
      "\n"
     ]
    },
    {
     "data": {
      "image/png": "[encoded data removed]",
      "text/plain": [
       "<Figure size 432x288 with 1 Axes>"
      ]
     },
     "metadata": {},
     "output_type": "display_data"
    },
    {
     "name": "stdout",
     "output_type": "stream",
     "text": [
      "\n"
     ]
    }
   ],
   "source": [
    "p0 = (0, 0, 0, 0, 0, 0)\n",
    "pcomposition(Heliumlocation, p0, thing = 'Helium Ampule' )\n",
    "pcomposition(Neonlocation, p0, thing = 'Neon Ampule' )\n",
    "pcomposition(Argonlocation, p0, thing = 'Argon Ampule' )\n",
    "pcomposition(Kryptonlocation, p0, thing = 'Krypton Ampule' )\n",
    "pcomposition(Xenonlocation, p0, thing = 'Xenon Ampule' )"
   ]
  },
  {
   "cell_type": "markdown",
   "metadata": {},
   "source": [
    "## 8. Interact Curve Fitting"
   ]
  },
  {
   "cell_type": "markdown",
   "metadata": {},
   "source": [
    "Given that the Database isnt perfect, it might be useful to manually do the curve fitting using interactive plots."
   ]
  },
  {
   "cell_type": "code",
   "execution_count": 22,
   "metadata": {},
   "outputs": [],
   "source": [
    "def interactiveanalysis(a, b, c, d, e, cfudge, ydata):\n",
    "    '''Doc'''\n",
    "    x = np.linspace(2.75*10**(-7), 8*10**(-7), 1200)\n",
    "    \n",
    "    fig = plt.figure(figsize=(20, 7.5))\n",
    "    ax = fig.add_subplot(111)\n",
    "    ax.plot(x, generalizedgaussian(x, a, b, c, d, e, cfudge))\n",
    "    ax.plot(x, ydata, label = 'catpured', alpha = 0.5)\n",
    "    #plt.plot(x, generalizedgaussian(x, a, b, c, d, e, cfudge))\n",
    "    #plt.plot(x, ydata, label = 'captured', alpha = 0.5)\n",
    "    plt.show()\n"
   ]
  },
  {
   "cell_type": "code",
   "execution_count": 23,
   "metadata": {
    "scrolled": false
   },
   "outputs": [
    {
     "data": {
      "text/plain": [
       "'[3.83754935e+04 2.19884885e+05 3.16212525e+04 6.26287838e+04 5.06259008e+04 1.05177266e-12]'"
      ]
     },
     "execution_count": 23,
     "metadata": {},
     "output_type": "execute_result"
    }
   ],
   "source": [
    "intrange = (0, 50000)\n",
    "intrange1 = FloatSlider(min = 0, max=500000, step=100, continuous_update=False)\n",
    "intrange2 = FloatSlider(min = 0, max=500000, step=100, continuous_update=False)\n",
    "intrange3 = FloatSlider(min = 0, max=500000, step=100, continuous_update=False)\n",
    "intrange4 = FloatSlider(min = 0, max=500000, step=100, continuous_update=False)\n",
    "intrange5 = FloatSlider(min = 0, max=500000, step=100, continuous_update=False)\n",
    "intrange6 = FloatSlider(min = 0, max=0.00000001, step=0.000000000001, continuous_update=False)\n",
    "\n",
    "\n",
    "\n",
    "'[3.83754935e+04 2.19884885e+05 3.16212525e+04 6.26287838e+04 5.06259008e+04 1.05177266e-12]'"
   ]
  },
  {
   "cell_type": "code",
   "execution_count": 24,
   "metadata": {},
   "outputs": [
    {
     "ename": "NameError",
     "evalue": "name 'LampNeonlocation' is not defined",
     "output_type": "error",
     "traceback": [
      "\u001b[1;31m---------------------------------------------------------------------------\u001b[0m",
      "\u001b[1;31mNameError\u001b[0m                                 Traceback (most recent call last)",
      "\u001b[1;32m<ipython-input-24-decefab09a20>\u001b[0m in \u001b[0;36m<module>\u001b[1;34m()\u001b[0m\n\u001b[0;32m      1\u001b[0m \u001b[0mx_values\u001b[0m \u001b[1;33m=\u001b[0m \u001b[0mnp\u001b[0m\u001b[1;33m.\u001b[0m\u001b[0mlinspace\u001b[0m\u001b[1;33m(\u001b[0m\u001b[1;36m2.75\u001b[0m\u001b[1;33m*\u001b[0m\u001b[1;36m10\u001b[0m\u001b[1;33m**\u001b[0m\u001b[1;33m(\u001b[0m\u001b[1;33m-\u001b[0m\u001b[1;36m7\u001b[0m\u001b[1;33m)\u001b[0m\u001b[1;33m,\u001b[0m \u001b[1;36m8\u001b[0m\u001b[1;33m*\u001b[0m\u001b[1;36m10\u001b[0m\u001b[1;33m**\u001b[0m\u001b[1;33m(\u001b[0m\u001b[1;33m-\u001b[0m\u001b[1;36m7\u001b[0m\u001b[1;33m)\u001b[0m\u001b[1;33m,\u001b[0m \u001b[1;36m1200\u001b[0m\u001b[1;33m)\u001b[0m\u001b[1;33m\u001b[0m\u001b[0m\n\u001b[1;32m----> 2\u001b[1;33m \u001b[0mlocation\u001b[0m \u001b[1;33m=\u001b[0m \u001b[0mLampNeonlocation\u001b[0m\u001b[1;33m\u001b[0m\u001b[0m\n\u001b[0m\u001b[0;32m      3\u001b[0m \u001b[0my\u001b[0m \u001b[1;33m=\u001b[0m \u001b[0mextrainfo\u001b[0m\u001b[1;33m(\u001b[0m\u001b[0mmean_data\u001b[0m\u001b[1;33m(\u001b[0m\u001b[0mlocation\u001b[0m\u001b[1;33m)\u001b[0m\u001b[1;33m)\u001b[0m\u001b[1;33m\u001b[0m\u001b[0m\n\u001b[0;32m      4\u001b[0m \u001b[0mydata\u001b[0m \u001b[1;33m=\u001b[0m \u001b[0mfullgaussian\u001b[0m\u001b[1;33m(\u001b[0m\u001b[0mx_values\u001b[0m\u001b[1;33m,\u001b[0m \u001b[0my\u001b[0m\u001b[1;33m)\u001b[0m\u001b[1;33m\u001b[0m\u001b[0m\n",
      "\u001b[1;31mNameError\u001b[0m: name 'LampNeonlocation' is not defined"
     ]
    }
   ],
   "source": [
    "x_values = np.linspace(2.75*10**(-7), 8*10**(-7), 1200)\n",
    "location = LampNeonlocation\n",
    "y = extrainfo(mean_data(location))\n",
    "ydata = fullgaussian(x_values, y)"
   ]
  },
  {
   "cell_type": "code",
   "execution_count": null,
   "metadata": {
    "scrolled": true
   },
   "outputs": [],
   "source": [
    "interactive_plot = interactive(interactiveanalysis, a = intrange1 , b= intrange2, c= intrange3, d = intrange4, e= intrange5, cfudge =intrange6, ydata = fixed(ydata))\n",
    "output = interactive_plot.children[-1]\n",
    "output.layout.height = '350px'\n",
    "display(interactive_plot)"
   ]
  },
  {
   "cell_type": "markdown",
   "metadata": {},
   "source": [
    "## Appendix : Prints"
   ]
  },
  {
   "cell_type": "code",
   "execution_count": null,
   "metadata": {},
   "outputs": [],
   "source": [
    "singleanalysis(Neonlocation, multiple = 60, a = 'Ne')"
   ]
  },
  {
   "cell_type": "code",
   "execution_count": null,
   "metadata": {},
   "outputs": [],
   "source": [
    "singleanalysis(Argonlocation, multiple = 7.5, a = 'Ar')"
   ]
  },
  {
   "cell_type": "code",
   "execution_count": null,
   "metadata": {},
   "outputs": [],
   "source": [
    "singleanalysis(Kryptonlocation, multiple = 5, a = 'Kr')"
   ]
  },
  {
   "cell_type": "code",
   "execution_count": null,
   "metadata": {},
   "outputs": [],
   "source": [
    "singleanalysis(Xenonlocation, multiple = 5, a = 'Xe')"
   ]
  },
  {
   "cell_type": "code",
   "execution_count": null,
   "metadata": {},
   "outputs": [],
   "source": [
    "singleanalysis(LampNeonlocation, multiple = 14, a = 'Ne')"
   ]
  },
  {
   "cell_type": "markdown",
   "metadata": {},
   "source": [
    "Intentionally Left Blank"
   ]
  },
  {
   "cell_type": "markdown",
   "metadata": {},
   "source": [
    " ...\n"
   ]
  },
  {
   "cell_type": "markdown",
   "metadata": {},
   "source": [
    "Intentionally Left Blank"
   ]
  },
  {
   "cell_type": "markdown",
   "metadata": {},
   "source": [
    "# Anything below this is scrap"
   ]
  },
  {
   "cell_type": "code",
   "execution_count": null,
   "metadata": {},
   "outputs": [],
   "source": [
    "print(0/0)"
   ]
  },
  {
   "cell_type": "code",
   "execution_count": null,
   "metadata": {},
   "outputs": [],
   "source": [
    "data1 = mean_data(Neonlocation)\n",
    "data2 = mean_data(LampNeonlocation)\n",
    "snipmean1 = data1[240:360]\n",
    "snipmean2 = data2[240:360]\n",
    "numberofx = snipmean1.shape[1]\n",
    "xt = np.linspace(1, numberofx, numberofx)\n",
    "A = 6.640*10**(-10) #wavelength calibration\n",
    "B = 2.736*10**(-7)  #wavelength calibration\n",
    "x = A*xt + B        #wavelength calibration\n",
    "y1 = np.mean(snipmean1, axis = 0)\n",
    "y2 = np.mean(snipmean2, axis = 0)\n"
   ]
  },
  {
   "cell_type": "code",
   "execution_count": null,
   "metadata": {},
   "outputs": [],
   "source": [
    "plt.plot(x, y1, label = 'Neon Ampuole')\n",
    "plt.plot(x, y2, label = 'Neon Lamp', alpha = 0.5)\n",
    "plt.xlabel(r'Wavelength (m)')\n",
    "plt.ylabel(r'Intensity(arbitrary units)')\n",
    "plt.legend()\n",
    "plt.show()"
   ]
  },
  {
   "cell_type": "markdown",
   "metadata": {
    "collapsed": true
   },
   "source": [
    "## More Scrap"
   ]
  },
  {
   "cell_type": "code",
   "execution_count": null,
   "metadata": {},
   "outputs": [],
   "source": [
    "print(peaks_datawv(mean_data(Heliumlocation)))"
   ]
  },
  {
   "cell_type": "code",
   "execution_count": null,
   "metadata": {},
   "outputs": [],
   "source": [
    "#plot_datawv(mean_data(LampXenonlocation))"
   ]
  },
  {
   "cell_type": "code",
   "execution_count": null,
   "metadata": {},
   "outputs": [],
   "source": [
    "plot_datapx(mean_data(LampNeonlocation))"
   ]
  },
  {
   "cell_type": "markdown",
   "metadata": {},
   "source": [
    "### Cutting off the low bits"
   ]
  },
  {
   "cell_type": "code",
   "execution_count": null,
   "metadata": {},
   "outputs": [],
   "source": [
    "def testmean_data(location):\n",
    "    '''Requires the location as a folder for where all the data is kept, and all the data should be a fit file.\n",
    "    Returns a 2d array, of the average values from all files'''\n",
    "    tracks = []\n",
    "    for i in os.listdir(location):\n",
    "        if i.endswith(\".fit\"):\n",
    "            filename =location + '/' + str(i)\n",
    "            image_file = get_pkg_data_filename(filename)\n",
    "            image_data = fits.getdata(image_file, ext=0) #uses astropy module to convert the fit file into an array\n",
    "            tracks.append(image_data)\n",
    "    mean = np.mean(tracks, axis = 0)\n",
    "    return mean-mean[300,0]"
   ]
  },
  {
   "cell_type": "code",
   "execution_count": null,
   "metadata": {},
   "outputs": [],
   "source": [
    "a = testmean_data(Heliumlocation)\n",
    "print(a)"
   ]
  },
  {
   "cell_type": "code",
   "execution_count": null,
   "metadata": {},
   "outputs": [],
   "source": [
    "def testplot_datapx(data, a=240, b=360):\n",
    "    '''plots the data, intensity vs pixel as well as the image itself'''\n",
    "    data = data\n",
    "    snipmean = data[a:b]   #snipmean isolates a rectangular section of the image\n",
    "    numberofx = snipmean.shape[1]\n",
    "    x = np.linspace(1, numberofx, numberofx)\n",
    "    y = np.mean(snipmean, axis = 0)\n",
    "    plt.title('Plot of superMean Intensity Vs Pixel Number') #you should change this with the title\n",
    "    plt.xlabel(r'Wavelength (m)')\n",
    "    plt.ylabel(r'Intensity(arbitrary units)')\n",
    "    plt.plot(x, y)\n",
    "    plt.show()\n",
    "    plt.figure()\n",
    "    plt.imshow(data, cmap='gray')\n",
    "    plt.colorbar()"
   ]
  },
  {
   "cell_type": "code",
   "execution_count": null,
   "metadata": {},
   "outputs": [],
   "source": [
    "testplot_datapx(testmean_data(Neonlocation))"
   ]
  },
  {
   "cell_type": "markdown",
   "metadata": {
    "collapsed": true
   },
   "source": [
    "### Using other dictionaries"
   ]
  },
  {
   "cell_type": "code",
   "execution_count": null,
   "metadata": {},
   "outputs": [],
   "source": [
    "Hydrogendict = importdict(hydrogentext)\n",
    "Carbondict = importdict(carbontext)\n",
    "Nitrogendict = importdict(nitrogentext)\n",
    "Oxygendict = importdict(oxygentext)\n"
   ]
  },
  {
   "cell_type": "code",
   "execution_count": null,
   "metadata": {},
   "outputs": [],
   "source": [
    "True_element_rel_in_d = {'He': Heliumdict, 'Ne' : Neondict, 'Ar' : Argondict, 'Kr':  Kryptondict, 'Xe' : Xenondict\n",
    "                         , 'H' : Hydrogendict, 'C' : Carbondict, 'N' : Nitrogendict, 'O' : Oxygendict}"
   ]
  },
  {
   "cell_type": "markdown",
   "metadata": {},
   "source": [
    "# Messing around with the other elements"
   ]
  },
  {
   "cell_type": "code",
   "execution_count": null,
   "metadata": {},
   "outputs": [],
   "source": [
    "def _generalizedgaussian(useddict):\n",
    "    useddict = useddict\n",
    "    emptylist = []\n",
    "    for x in useddict:\n",
    "        temp = (x, 1e-09, useddict[x]*10**(10))\n",
    "        emptylist.append(temp)\n",
    "    return emptylist\n",
    "def generalizedgaussian(x, a, b, c, d, e, f, g, h, i, cfudge):\n",
    "    '''Returns the function of a generalized gaussian containing all 5 elements from the database'''\n",
    "    HeList = _generalizedgaussian(Heliumdict)\n",
    "    NeList = _generalizedgaussian(Neondict)\n",
    "    ArList = _generalizedgaussian(Argondict)\n",
    "    KrList = _generalizedgaussian(Kryptondict)\n",
    "    XeList = _generalizedgaussian(Xenondict)\n",
    "    \n",
    "    HList = _generalizedgaussian(Hydrogendict)\n",
    "    CList = _generalizedgaussian(Carbondict)\n",
    "    NList = _generalizedgaussian(Nitrogendict)\n",
    "    OList = _generalizedgaussian(Oxygendict)\n",
    "    \n",
    "    \n",
    "    function = 0 \n",
    "    function += a*fullgaussian(x, HeList, cfudge)\n",
    "    function += b*fullgaussian(x, NeList, cfudge)\n",
    "    function += c*fullgaussian(x, ArList, cfudge)\n",
    "    function += d*fullgaussian(x, KrList, cfudge)\n",
    "    function += e*fullgaussian(x, XeList, cfudge)\n",
    "    \n",
    "    function += f*fullgaussian(x, HList, cfudge)\n",
    "    function += g*fullgaussian(x, CList, cfudge)\n",
    "    function += h*fullgaussian(x, NList, cfudge)\n",
    "    function += i*fullgaussian(x, OList, cfudge)\n",
    "    return function"
   ]
  },
  {
   "cell_type": "code",
   "execution_count": null,
   "metadata": {},
   "outputs": [],
   "source": [
    "%%time\n",
    "location= Heliumlocation\n",
    "\n",
    "x_values = np.linspace(2.75*10**(-7), 8*10**(-7), 1200)\n",
    "xdata = x_values\n",
    "\n",
    "\n",
    "y = extrainfo(mean_data(location))\n",
    "ydata = fullgaussian(x_values, y)\n",
    "\n",
    "func = generalizedgaussian\n",
    "p0 = (1000, 0, 0, 0, 0, 0, 0, 0, 0, 0)\n",
    "popt, pcov = curve_fit(func, xdata, ydata, bounds = (0, [np.inf, np.inf, np.inf, np.inf, np.inf, np.inf, np.inf, np.inf, np.inf, 1*10**-8]))\n",
    "print(popt)\n",
    "print('')\n",
    "print(np.sqrt(np.diag(pcov)))\n",
    "\n",
    "\n",
    "plt.plot(x_values, generalizedgaussian(x_values, a=popt[0], b=popt[1], c=popt[2], d=popt[3], e=popt[4], f=popt[5], g=popt[6], h=popt[7], i=popt[8], cfudge = popt[9]), label = 'fit',   alpha = 0.5)\n",
    "plt.plot(xdata, ydata, label = 'captured')\n",
    "plt.legend()\n",
    "plt.show()"
   ]
  }
 ],
 "metadata": {
  "kernelspec": {
   "display_name": "Python 3",
   "language": "python",
   "name": "python3"
  },
  "language_info": {
   "codemirror_mode": {
    "name": "ipython",
    "version": 3
   },
   "file_extension": ".py",
   "mimetype": "text/x-python",
   "name": "python",
   "nbconvert_exporter": "python",
   "pygments_lexer": "ipython3",
   "version": "3.6.5"
  }
 },
 "nbformat": 4,
 "nbformat_minor": 2
}
